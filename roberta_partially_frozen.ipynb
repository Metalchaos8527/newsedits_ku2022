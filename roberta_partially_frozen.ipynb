{
 "cells": [
  {
   "cell_type": "code",
   "execution_count": 1,
   "id": "0cfc6eba",
   "metadata": {},
   "outputs": [
    {
     "name": "stderr",
     "output_type": "stream",
     "text": [
      "Some weights of the model checkpoint at roberta-base were not used when initializing RobertaModel: ['lm_head.layer_norm.bias', 'lm_head.dense.weight', 'lm_head.layer_norm.weight', 'lm_head.dense.bias', 'lm_head.bias', 'lm_head.decoder.weight']\n",
      "- This IS expected if you are initializing RobertaModel from the checkpoint of a model trained on another task or with another architecture (e.g. initializing a BertForSequenceClassification model from a BertForPreTraining model).\n",
      "- This IS NOT expected if you are initializing RobertaModel from the checkpoint of a model that you expect to be exactly identical (initializing a BertForSequenceClassification model from a BertForSequenceClassification model).\n"
     ]
    }
   ],
   "source": [
    "from transformers import RobertaTokenizer, RobertaModel\n",
    "\n",
    "tokenizer = RobertaTokenizer.from_pretrained('roberta-base')\n",
    "model = RobertaModel.from_pretrained('roberta-base')"
   ]
  },
  {
   "cell_type": "code",
   "execution_count": 2,
   "id": "a5055335",
   "metadata": {},
   "outputs": [],
   "source": [
    "import re\n",
    "\n",
    "for name, param in model.named_parameters():\n",
    "    \n",
    "    #bottom 6 layer freeze\n",
    "    if name.startswith('encoder.layer'):\n",
    "        if int(re.search(r'\\d+', name).group()) < 6:\n",
    "            param.requires_grad = False"
   ]
  },
  {
   "cell_type": "code",
   "execution_count": 3,
   "id": "1e44214e",
   "metadata": {
    "collapsed": true
   },
   "outputs": [
    {
     "name": "stdout",
     "output_type": "stream",
     "text": [
      "embeddings.word_embeddings.weight True\n",
      "embeddings.position_embeddings.weight True\n",
      "embeddings.token_type_embeddings.weight True\n",
      "embeddings.LayerNorm.weight True\n",
      "embeddings.LayerNorm.bias True\n",
      "encoder.layer.0.attention.self.query.weight False\n",
      "encoder.layer.0.attention.self.query.bias False\n",
      "encoder.layer.0.attention.self.key.weight False\n",
      "encoder.layer.0.attention.self.key.bias False\n",
      "encoder.layer.0.attention.self.value.weight False\n",
      "encoder.layer.0.attention.self.value.bias False\n",
      "encoder.layer.0.attention.output.dense.weight False\n",
      "encoder.layer.0.attention.output.dense.bias False\n",
      "encoder.layer.0.attention.output.LayerNorm.weight False\n",
      "encoder.layer.0.attention.output.LayerNorm.bias False\n",
      "encoder.layer.0.intermediate.dense.weight False\n",
      "encoder.layer.0.intermediate.dense.bias False\n",
      "encoder.layer.0.output.dense.weight False\n",
      "encoder.layer.0.output.dense.bias False\n",
      "encoder.layer.0.output.LayerNorm.weight False\n",
      "encoder.layer.0.output.LayerNorm.bias False\n",
      "encoder.layer.1.attention.self.query.weight False\n",
      "encoder.layer.1.attention.self.query.bias False\n",
      "encoder.layer.1.attention.self.key.weight False\n",
      "encoder.layer.1.attention.self.key.bias False\n",
      "encoder.layer.1.attention.self.value.weight False\n",
      "encoder.layer.1.attention.self.value.bias False\n",
      "encoder.layer.1.attention.output.dense.weight False\n",
      "encoder.layer.1.attention.output.dense.bias False\n",
      "encoder.layer.1.attention.output.LayerNorm.weight False\n",
      "encoder.layer.1.attention.output.LayerNorm.bias False\n",
      "encoder.layer.1.intermediate.dense.weight False\n",
      "encoder.layer.1.intermediate.dense.bias False\n",
      "encoder.layer.1.output.dense.weight False\n",
      "encoder.layer.1.output.dense.bias False\n",
      "encoder.layer.1.output.LayerNorm.weight False\n",
      "encoder.layer.1.output.LayerNorm.bias False\n",
      "encoder.layer.2.attention.self.query.weight False\n",
      "encoder.layer.2.attention.self.query.bias False\n",
      "encoder.layer.2.attention.self.key.weight False\n",
      "encoder.layer.2.attention.self.key.bias False\n",
      "encoder.layer.2.attention.self.value.weight False\n",
      "encoder.layer.2.attention.self.value.bias False\n",
      "encoder.layer.2.attention.output.dense.weight False\n",
      "encoder.layer.2.attention.output.dense.bias False\n",
      "encoder.layer.2.attention.output.LayerNorm.weight False\n",
      "encoder.layer.2.attention.output.LayerNorm.bias False\n",
      "encoder.layer.2.intermediate.dense.weight False\n",
      "encoder.layer.2.intermediate.dense.bias False\n",
      "encoder.layer.2.output.dense.weight False\n",
      "encoder.layer.2.output.dense.bias False\n",
      "encoder.layer.2.output.LayerNorm.weight False\n",
      "encoder.layer.2.output.LayerNorm.bias False\n",
      "encoder.layer.3.attention.self.query.weight False\n",
      "encoder.layer.3.attention.self.query.bias False\n",
      "encoder.layer.3.attention.self.key.weight False\n",
      "encoder.layer.3.attention.self.key.bias False\n",
      "encoder.layer.3.attention.self.value.weight False\n",
      "encoder.layer.3.attention.self.value.bias False\n",
      "encoder.layer.3.attention.output.dense.weight False\n",
      "encoder.layer.3.attention.output.dense.bias False\n",
      "encoder.layer.3.attention.output.LayerNorm.weight False\n",
      "encoder.layer.3.attention.output.LayerNorm.bias False\n",
      "encoder.layer.3.intermediate.dense.weight False\n",
      "encoder.layer.3.intermediate.dense.bias False\n",
      "encoder.layer.3.output.dense.weight False\n",
      "encoder.layer.3.output.dense.bias False\n",
      "encoder.layer.3.output.LayerNorm.weight False\n",
      "encoder.layer.3.output.LayerNorm.bias False\n",
      "encoder.layer.4.attention.self.query.weight False\n",
      "encoder.layer.4.attention.self.query.bias False\n",
      "encoder.layer.4.attention.self.key.weight False\n",
      "encoder.layer.4.attention.self.key.bias False\n",
      "encoder.layer.4.attention.self.value.weight False\n",
      "encoder.layer.4.attention.self.value.bias False\n",
      "encoder.layer.4.attention.output.dense.weight False\n",
      "encoder.layer.4.attention.output.dense.bias False\n",
      "encoder.layer.4.attention.output.LayerNorm.weight False\n",
      "encoder.layer.4.attention.output.LayerNorm.bias False\n",
      "encoder.layer.4.intermediate.dense.weight False\n",
      "encoder.layer.4.intermediate.dense.bias False\n",
      "encoder.layer.4.output.dense.weight False\n",
      "encoder.layer.4.output.dense.bias False\n",
      "encoder.layer.4.output.LayerNorm.weight False\n",
      "encoder.layer.4.output.LayerNorm.bias False\n",
      "encoder.layer.5.attention.self.query.weight False\n",
      "encoder.layer.5.attention.self.query.bias False\n",
      "encoder.layer.5.attention.self.key.weight False\n",
      "encoder.layer.5.attention.self.key.bias False\n",
      "encoder.layer.5.attention.self.value.weight False\n",
      "encoder.layer.5.attention.self.value.bias False\n",
      "encoder.layer.5.attention.output.dense.weight False\n",
      "encoder.layer.5.attention.output.dense.bias False\n",
      "encoder.layer.5.attention.output.LayerNorm.weight False\n",
      "encoder.layer.5.attention.output.LayerNorm.bias False\n",
      "encoder.layer.5.intermediate.dense.weight False\n",
      "encoder.layer.5.intermediate.dense.bias False\n",
      "encoder.layer.5.output.dense.weight False\n",
      "encoder.layer.5.output.dense.bias False\n",
      "encoder.layer.5.output.LayerNorm.weight False\n",
      "encoder.layer.5.output.LayerNorm.bias False\n",
      "encoder.layer.6.attention.self.query.weight True\n",
      "encoder.layer.6.attention.self.query.bias True\n",
      "encoder.layer.6.attention.self.key.weight True\n",
      "encoder.layer.6.attention.self.key.bias True\n",
      "encoder.layer.6.attention.self.value.weight True\n",
      "encoder.layer.6.attention.self.value.bias True\n",
      "encoder.layer.6.attention.output.dense.weight True\n",
      "encoder.layer.6.attention.output.dense.bias True\n",
      "encoder.layer.6.attention.output.LayerNorm.weight True\n",
      "encoder.layer.6.attention.output.LayerNorm.bias True\n",
      "encoder.layer.6.intermediate.dense.weight True\n",
      "encoder.layer.6.intermediate.dense.bias True\n",
      "encoder.layer.6.output.dense.weight True\n",
      "encoder.layer.6.output.dense.bias True\n",
      "encoder.layer.6.output.LayerNorm.weight True\n",
      "encoder.layer.6.output.LayerNorm.bias True\n",
      "encoder.layer.7.attention.self.query.weight True\n",
      "encoder.layer.7.attention.self.query.bias True\n",
      "encoder.layer.7.attention.self.key.weight True\n",
      "encoder.layer.7.attention.self.key.bias True\n",
      "encoder.layer.7.attention.self.value.weight True\n",
      "encoder.layer.7.attention.self.value.bias True\n",
      "encoder.layer.7.attention.output.dense.weight True\n",
      "encoder.layer.7.attention.output.dense.bias True\n",
      "encoder.layer.7.attention.output.LayerNorm.weight True\n",
      "encoder.layer.7.attention.output.LayerNorm.bias True\n",
      "encoder.layer.7.intermediate.dense.weight True\n",
      "encoder.layer.7.intermediate.dense.bias True\n",
      "encoder.layer.7.output.dense.weight True\n",
      "encoder.layer.7.output.dense.bias True\n",
      "encoder.layer.7.output.LayerNorm.weight True\n",
      "encoder.layer.7.output.LayerNorm.bias True\n",
      "encoder.layer.8.attention.self.query.weight True\n",
      "encoder.layer.8.attention.self.query.bias True\n",
      "encoder.layer.8.attention.self.key.weight True\n",
      "encoder.layer.8.attention.self.key.bias True\n",
      "encoder.layer.8.attention.self.value.weight True\n",
      "encoder.layer.8.attention.self.value.bias True\n",
      "encoder.layer.8.attention.output.dense.weight True\n",
      "encoder.layer.8.attention.output.dense.bias True\n",
      "encoder.layer.8.attention.output.LayerNorm.weight True\n",
      "encoder.layer.8.attention.output.LayerNorm.bias True\n",
      "encoder.layer.8.intermediate.dense.weight True\n",
      "encoder.layer.8.intermediate.dense.bias True\n",
      "encoder.layer.8.output.dense.weight True\n",
      "encoder.layer.8.output.dense.bias True\n",
      "encoder.layer.8.output.LayerNorm.weight True\n",
      "encoder.layer.8.output.LayerNorm.bias True\n",
      "encoder.layer.9.attention.self.query.weight True\n",
      "encoder.layer.9.attention.self.query.bias True\n",
      "encoder.layer.9.attention.self.key.weight True\n",
      "encoder.layer.9.attention.self.key.bias True\n",
      "encoder.layer.9.attention.self.value.weight True\n",
      "encoder.layer.9.attention.self.value.bias True\n",
      "encoder.layer.9.attention.output.dense.weight True\n",
      "encoder.layer.9.attention.output.dense.bias True\n",
      "encoder.layer.9.attention.output.LayerNorm.weight True\n",
      "encoder.layer.9.attention.output.LayerNorm.bias True\n",
      "encoder.layer.9.intermediate.dense.weight True\n",
      "encoder.layer.9.intermediate.dense.bias True\n",
      "encoder.layer.9.output.dense.weight True\n",
      "encoder.layer.9.output.dense.bias True\n",
      "encoder.layer.9.output.LayerNorm.weight True\n",
      "encoder.layer.9.output.LayerNorm.bias True\n",
      "encoder.layer.10.attention.self.query.weight True\n",
      "encoder.layer.10.attention.self.query.bias True\n",
      "encoder.layer.10.attention.self.key.weight True\n",
      "encoder.layer.10.attention.self.key.bias True\n",
      "encoder.layer.10.attention.self.value.weight True\n",
      "encoder.layer.10.attention.self.value.bias True\n",
      "encoder.layer.10.attention.output.dense.weight True\n",
      "encoder.layer.10.attention.output.dense.bias True\n",
      "encoder.layer.10.attention.output.LayerNorm.weight True\n",
      "encoder.layer.10.attention.output.LayerNorm.bias True\n",
      "encoder.layer.10.intermediate.dense.weight True\n",
      "encoder.layer.10.intermediate.dense.bias True\n",
      "encoder.layer.10.output.dense.weight True\n",
      "encoder.layer.10.output.dense.bias True\n",
      "encoder.layer.10.output.LayerNorm.weight True\n",
      "encoder.layer.10.output.LayerNorm.bias True\n",
      "encoder.layer.11.attention.self.query.weight True\n",
      "encoder.layer.11.attention.self.query.bias True\n",
      "encoder.layer.11.attention.self.key.weight True\n",
      "encoder.layer.11.attention.self.key.bias True\n",
      "encoder.layer.11.attention.self.value.weight True\n",
      "encoder.layer.11.attention.self.value.bias True\n",
      "encoder.layer.11.attention.output.dense.weight True\n",
      "encoder.layer.11.attention.output.dense.bias True\n",
      "encoder.layer.11.attention.output.LayerNorm.weight True\n",
      "encoder.layer.11.attention.output.LayerNorm.bias True\n",
      "encoder.layer.11.intermediate.dense.weight True\n",
      "encoder.layer.11.intermediate.dense.bias True\n",
      "encoder.layer.11.output.dense.weight True\n",
      "encoder.layer.11.output.dense.bias True\n",
      "encoder.layer.11.output.LayerNorm.weight True\n",
      "encoder.layer.11.output.LayerNorm.bias True\n",
      "pooler.dense.weight True\n",
      "pooler.dense.bias True\n"
     ]
    }
   ],
   "source": [
    "for name, param in model.named_parameters():\n",
    "    print(name, param.requires_grad)\n",
    "    #정상적으로 freeze 됨"
   ]
  },
  {
   "cell_type": "markdown",
   "id": "1998538f",
   "metadata": {},
   "source": [
    "## document_stats 정보 가져오기"
   ]
  },
  {
   "cell_type": "code",
   "execution_count": 4,
   "id": "f6a953a3",
   "metadata": {},
   "outputs": [
    {
     "data": {
      "text/plain": [
       "['dailymail-matched-sentences.db.gz',\n",
       " 'torontostar-matched-sentences.db.gz',\n",
       " 'canadaland-matched-sentences.db.gz',\n",
       " 'lapresse-matched-sentences.db.gz',\n",
       " 'telegraph-matched-sentences.db.gz',\n",
       " 'cbc-matched-sentences.db.gz',\n",
       " 'independent-matched-sentences.db.gz',\n",
       " 'wp-matched-sentences.db.gz',\n",
       " 'reuters-matched-sentences.db.gz',\n",
       " '.DS_Store',\n",
       " 'globemail-matched-sentences.db.gz',\n",
       " 'ap-matched-sentences.db',\n",
       " 'guardian-matched-sentences.db.gz',\n",
       " 'fox-matched-sentences.db.gz',\n",
       " 'bbc-2-matched-sentences.db.gz',\n",
       " 'calgaryherald-matched-sentences.db.gz',\n",
       " 'nationalpost-matched-sentences.db.gz',\n",
       " 'nyt-matched-sentences.db.gz']"
      ]
     },
     "execution_count": 4,
     "metadata": {},
     "output_type": "execute_result"
    }
   ],
   "source": [
    "#데이터 불러와보기\n",
    "import os\n",
    "import pandas as pd \n",
    "import sqlite3\n",
    "\n",
    "data_dir = \"/data/chaos8527/server14/newsedits_data/matched-sentences/\"\n",
    "\n",
    "os.listdir(data_dir)"
   ]
  },
  {
   "cell_type": "code",
   "execution_count": 332,
   "id": "98b4d827",
   "metadata": {},
   "outputs": [],
   "source": [
    "conn_trial = sqlite3.connect(data_dir + \"dailymail-matched-sentences.db.gz\")"
   ]
  },
  {
   "cell_type": "code",
   "execution_count": 5,
   "id": "8ad9d2f3",
   "metadata": {},
   "outputs": [],
   "source": [
    "conn = sqlite3.connect(data_dir + 'ap-matched-sentences.db')"
   ]
  },
  {
   "cell_type": "code",
   "execution_count": 6,
   "id": "cca5135f",
   "metadata": {},
   "outputs": [
    {
     "data": {
      "text/plain": [
       "<sqlite3.Connection at 0x7eff50017210>"
      ]
     },
     "execution_count": 6,
     "metadata": {},
     "output_type": "execute_result"
    }
   ],
   "source": [
    "conn"
   ]
  },
  {
   "cell_type": "code",
   "execution_count": 7,
   "id": "7b4f4500",
   "metadata": {},
   "outputs": [
    {
     "data": {
      "text/html": [
       "<div>\n",
       "<style scoped>\n",
       "    .dataframe tbody tr th:only-of-type {\n",
       "        vertical-align: middle;\n",
       "    }\n",
       "\n",
       "    .dataframe tbody tr th {\n",
       "        vertical-align: top;\n",
       "    }\n",
       "\n",
       "    .dataframe thead th {\n",
       "        text-align: right;\n",
       "    }\n",
       "</style>\n",
       "<table border=\"1\" class=\"dataframe\">\n",
       "  <thead>\n",
       "    <tr style=\"text-align: right;\">\n",
       "      <th></th>\n",
       "      <th>name</th>\n",
       "    </tr>\n",
       "  </thead>\n",
       "  <tbody>\n",
       "    <tr>\n",
       "      <th>0</th>\n",
       "      <td>matched_sentences</td>\n",
       "    </tr>\n",
       "    <tr>\n",
       "      <th>1</th>\n",
       "      <td>split_sentences</td>\n",
       "    </tr>\n",
       "    <tr>\n",
       "      <th>2</th>\n",
       "      <td>doc_level_stats</td>\n",
       "    </tr>\n",
       "  </tbody>\n",
       "</table>\n",
       "</div>"
      ],
      "text/plain": [
       "                name\n",
       "0  matched_sentences\n",
       "1    split_sentences\n",
       "2    doc_level_stats"
      ]
     },
     "execution_count": 7,
     "metadata": {},
     "output_type": "execute_result"
    }
   ],
   "source": [
    "pd.read_sql('''SELECT \n",
    "                    name\n",
    "                FROM \n",
    "                    sqlite_master \n",
    "                WHERE \n",
    "                    type ='table' AND \n",
    "                    name NOT LIKE 'sqlite_%';\n",
    "''', con=conn)"
   ]
  },
  {
   "cell_type": "code",
   "execution_count": 9,
   "id": "70bd78ad",
   "metadata": {},
   "outputs": [
    {
     "data": {
      "text/html": [
       "<div>\n",
       "<style scoped>\n",
       "    .dataframe tbody tr th:only-of-type {\n",
       "        vertical-align: middle;\n",
       "    }\n",
       "\n",
       "    .dataframe tbody tr th {\n",
       "        vertical-align: top;\n",
       "    }\n",
       "\n",
       "    .dataframe thead th {\n",
       "        text-align: right;\n",
       "    }\n",
       "</style>\n",
       "<table border=\"1\" class=\"dataframe\">\n",
       "  <thead>\n",
       "    <tr style=\"text-align: right;\">\n",
       "      <th></th>\n",
       "      <th>entry_id</th>\n",
       "      <th>version_x</th>\n",
       "      <th>version_y</th>\n",
       "      <th>mean x dist</th>\n",
       "      <th>mean y dist</th>\n",
       "      <th>num_unchanged</th>\n",
       "      <th>num_edited_x</th>\n",
       "      <th>num_edited_y</th>\n",
       "      <th>num_deleted</th>\n",
       "      <th>num_added</th>\n",
       "      <th>num_merged</th>\n",
       "      <th>num_split</th>\n",
       "      <th>num_sentences_x</th>\n",
       "      <th>num_sentences_y</th>\n",
       "      <th>num_refactors</th>\n",
       "      <th>mean_dist_overall</th>\n",
       "    </tr>\n",
       "  </thead>\n",
       "  <tbody>\n",
       "    <tr>\n",
       "      <th>0</th>\n",
       "      <td>1</td>\n",
       "      <td>0</td>\n",
       "      <td>1</td>\n",
       "      <td>0.011069</td>\n",
       "      <td>0.020067</td>\n",
       "      <td>26</td>\n",
       "      <td>19</td>\n",
       "      <td>20</td>\n",
       "      <td>0</td>\n",
       "      <td>1</td>\n",
       "      <td>0</td>\n",
       "      <td>1</td>\n",
       "      <td>45</td>\n",
       "      <td>47</td>\n",
       "      <td>0</td>\n",
       "      <td>0.015568</td>\n",
       "    </tr>\n",
       "    <tr>\n",
       "      <th>1</th>\n",
       "      <td>1</td>\n",
       "      <td>1</td>\n",
       "      <td>2</td>\n",
       "      <td>0.040247</td>\n",
       "      <td>0.039950</td>\n",
       "      <td>19</td>\n",
       "      <td>20</td>\n",
       "      <td>20</td>\n",
       "      <td>8</td>\n",
       "      <td>4</td>\n",
       "      <td>1</td>\n",
       "      <td>1</td>\n",
       "      <td>47</td>\n",
       "      <td>43</td>\n",
       "      <td>1</td>\n",
       "      <td>0.040099</td>\n",
       "    </tr>\n",
       "    <tr>\n",
       "      <th>2</th>\n",
       "      <td>2</td>\n",
       "      <td>0</td>\n",
       "      <td>1</td>\n",
       "      <td>0.008678</td>\n",
       "      <td>0.008655</td>\n",
       "      <td>20</td>\n",
       "      <td>19</td>\n",
       "      <td>19</td>\n",
       "      <td>1</td>\n",
       "      <td>1</td>\n",
       "      <td>0</td>\n",
       "      <td>0</td>\n",
       "      <td>40</td>\n",
       "      <td>40</td>\n",
       "      <td>0</td>\n",
       "      <td>0.008666</td>\n",
       "    </tr>\n",
       "    <tr>\n",
       "      <th>3</th>\n",
       "      <td>2</td>\n",
       "      <td>1</td>\n",
       "      <td>2</td>\n",
       "      <td>0.015470</td>\n",
       "      <td>0.015509</td>\n",
       "      <td>37</td>\n",
       "      <td>3</td>\n",
       "      <td>3</td>\n",
       "      <td>0</td>\n",
       "      <td>0</td>\n",
       "      <td>0</td>\n",
       "      <td>0</td>\n",
       "      <td>40</td>\n",
       "      <td>40</td>\n",
       "      <td>0</td>\n",
       "      <td>0.015489</td>\n",
       "    </tr>\n",
       "    <tr>\n",
       "      <th>4</th>\n",
       "      <td>2</td>\n",
       "      <td>2</td>\n",
       "      <td>3</td>\n",
       "      <td>NaN</td>\n",
       "      <td>NaN</td>\n",
       "      <td>0</td>\n",
       "      <td>0</td>\n",
       "      <td>0</td>\n",
       "      <td>33</td>\n",
       "      <td>69</td>\n",
       "      <td>0</td>\n",
       "      <td>0</td>\n",
       "      <td>33</td>\n",
       "      <td>69</td>\n",
       "      <td>0</td>\n",
       "      <td>NaN</td>\n",
       "    </tr>\n",
       "  </tbody>\n",
       "</table>\n",
       "</div>"
      ],
      "text/plain": [
       "   entry_id  version_x  version_y  mean x dist  mean y dist  num_unchanged  \\\n",
       "0         1          0          1     0.011069     0.020067             26   \n",
       "1         1          1          2     0.040247     0.039950             19   \n",
       "2         2          0          1     0.008678     0.008655             20   \n",
       "3         2          1          2     0.015470     0.015509             37   \n",
       "4         2          2          3          NaN          NaN              0   \n",
       "\n",
       "   num_edited_x  num_edited_y  num_deleted  num_added  num_merged  num_split  \\\n",
       "0            19            20            0          1           0          1   \n",
       "1            20            20            8          4           1          1   \n",
       "2            19            19            1          1           0          0   \n",
       "3             3             3            0          0           0          0   \n",
       "4             0             0           33         69           0          0   \n",
       "\n",
       "   num_sentences_x  num_sentences_y  num_refactors  mean_dist_overall  \n",
       "0               45               47              0           0.015568  \n",
       "1               47               43              1           0.040099  \n",
       "2               40               40              0           0.008666  \n",
       "3               40               40              0           0.015489  \n",
       "4               33               69              0                NaN  "
      ]
     },
     "execution_count": 9,
     "metadata": {},
     "output_type": "execute_result"
    }
   ],
   "source": [
    "pd.read_sql('select * from doc_level_stats', con=conn).head()"
   ]
  },
  {
   "cell_type": "code",
   "execution_count": 11,
   "id": "4906b523",
   "metadata": {
    "scrolled": true
   },
   "outputs": [
    {
     "data": {
      "text/plain": [
       "61518"
      ]
     },
     "execution_count": 11,
     "metadata": {},
     "output_type": "execute_result"
    }
   ],
   "source": [
    "doc_level_stats_df = pd.read_sql('select * from doc_level_stats', con=conn)\n",
    "doc_level_stats_df.shape[0]"
   ]
  },
  {
   "cell_type": "code",
   "execution_count": 83,
   "id": "3c13789a",
   "metadata": {},
   "outputs": [
    {
     "data": {
      "text/plain": [
       "<AxesSubplot:>"
      ]
     },
     "execution_count": 83,
     "metadata": {},
     "output_type": "execute_result"
    },
    {
     "data": {
      "image/png": "[encoded data removed]",
      "text/plain": [
       "<Figure size 640x480 with 1 Axes>"
      ]
     },
     "metadata": {},
     "output_type": "display_data"
    }
   ],
   "source": [
    "#version 개수 histogram\n",
    "\n",
    "doc_level_stats_df['version_y'].hist()\n",
    "    #논문의 설정처럼 sent의 개수가 5개 이상 15개 이하인 경우 + version number가 20개 미만인 경우에 한해서 filtering을 진행하는게 좋을 것\n",
    "    #train, val, test split은 그냥 랜덤으로..."
   ]
  },
  {
   "cell_type": "code",
   "execution_count": 147,
   "id": "e2e43ccb",
   "metadata": {},
   "outputs": [],
   "source": [
    "#논문의 sentence, version 개수 고려한 filtering 진행하기\n",
    "\n",
    "#version filtering\n",
    "ver_mask = (doc_level_stats_df.version_y < 20)\n",
    "filtered_doc_stats = doc_level_stats_df.loc[ver_mask]\n",
    "\n",
    "#sentence filtering\n",
    "sent_mask = (filtered_doc_stats.num_sentences_y >= 5) & (filtered_doc_stats.num_sentences_y <= 15)\n",
    "filtered_doc_stats = filtered_doc_stats.loc[sent_mask]\n",
    "filtered_doc_stats = filtered_doc_stats.reset_index(drop = True)"
   ]
  },
  {
   "cell_type": "code",
   "execution_count": 148,
   "id": "4caaafa8",
   "metadata": {},
   "outputs": [
    {
     "data": {
      "text/plain": [
       "(11154, 16)"
      ]
     },
     "execution_count": 148,
     "metadata": {},
     "output_type": "execute_result"
    }
   ],
   "source": [
    "filtered_doc_stats.shape"
   ]
  },
  {
   "cell_type": "code",
   "execution_count": 90,
   "id": "74a54b91",
   "metadata": {
    "scrolled": true
   },
   "outputs": [
    {
     "data": {
      "text/html": [
       "<div>\n",
       "<style scoped>\n",
       "    .dataframe tbody tr th:only-of-type {\n",
       "        vertical-align: middle;\n",
       "    }\n",
       "\n",
       "    .dataframe tbody tr th {\n",
       "        vertical-align: top;\n",
       "    }\n",
       "\n",
       "    .dataframe thead th {\n",
       "        text-align: right;\n",
       "    }\n",
       "</style>\n",
       "<table border=\"1\" class=\"dataframe\">\n",
       "  <thead>\n",
       "    <tr style=\"text-align: right;\">\n",
       "      <th></th>\n",
       "      <th>entry_id</th>\n",
       "      <th>version_x</th>\n",
       "      <th>version_y</th>\n",
       "      <th>mean x dist</th>\n",
       "      <th>mean y dist</th>\n",
       "      <th>num_unchanged</th>\n",
       "      <th>num_edited_x</th>\n",
       "      <th>num_edited_y</th>\n",
       "      <th>num_deleted</th>\n",
       "      <th>num_added</th>\n",
       "      <th>num_merged</th>\n",
       "      <th>num_split</th>\n",
       "      <th>num_sentences_x</th>\n",
       "      <th>num_sentences_y</th>\n",
       "      <th>num_refactors</th>\n",
       "      <th>mean_dist_overall</th>\n",
       "    </tr>\n",
       "  </thead>\n",
       "  <tbody>\n",
       "    <tr>\n",
       "      <th>5</th>\n",
       "      <td>4</td>\n",
       "      <td>0</td>\n",
       "      <td>1</td>\n",
       "      <td>0.046816</td>\n",
       "      <td>0.046816</td>\n",
       "      <td>10</td>\n",
       "      <td>6</td>\n",
       "      <td>6</td>\n",
       "      <td>0</td>\n",
       "      <td>3</td>\n",
       "      <td>0</td>\n",
       "      <td>0</td>\n",
       "      <td>16</td>\n",
       "      <td>19</td>\n",
       "      <td>0</td>\n",
       "      <td>0.046816</td>\n",
       "    </tr>\n",
       "    <tr>\n",
       "      <th>6</th>\n",
       "      <td>4</td>\n",
       "      <td>1</td>\n",
       "      <td>2</td>\n",
       "      <td>0.061029</td>\n",
       "      <td>0.039039</td>\n",
       "      <td>10</td>\n",
       "      <td>8</td>\n",
       "      <td>7</td>\n",
       "      <td>2</td>\n",
       "      <td>5</td>\n",
       "      <td>1</td>\n",
       "      <td>0</td>\n",
       "      <td>20</td>\n",
       "      <td>22</td>\n",
       "      <td>1</td>\n",
       "      <td>0.050034</td>\n",
       "    </tr>\n",
       "    <tr>\n",
       "      <th>7</th>\n",
       "      <td>4</td>\n",
       "      <td>2</td>\n",
       "      <td>3</td>\n",
       "      <td>0.207115</td>\n",
       "      <td>0.229423</td>\n",
       "      <td>3</td>\n",
       "      <td>15</td>\n",
       "      <td>17</td>\n",
       "      <td>5</td>\n",
       "      <td>7</td>\n",
       "      <td>0</td>\n",
       "      <td>2</td>\n",
       "      <td>23</td>\n",
       "      <td>27</td>\n",
       "      <td>0</td>\n",
       "      <td>0.218269</td>\n",
       "    </tr>\n",
       "    <tr>\n",
       "      <th>8</th>\n",
       "      <td>4</td>\n",
       "      <td>3</td>\n",
       "      <td>4</td>\n",
       "      <td>0.014479</td>\n",
       "      <td>0.028138</td>\n",
       "      <td>20</td>\n",
       "      <td>9</td>\n",
       "      <td>10</td>\n",
       "      <td>0</td>\n",
       "      <td>2</td>\n",
       "      <td>0</td>\n",
       "      <td>1</td>\n",
       "      <td>29</td>\n",
       "      <td>32</td>\n",
       "      <td>1</td>\n",
       "      <td>0.021309</td>\n",
       "    </tr>\n",
       "    <tr>\n",
       "      <th>9</th>\n",
       "      <td>4</td>\n",
       "      <td>4</td>\n",
       "      <td>5</td>\n",
       "      <td>0.033968</td>\n",
       "      <td>0.033968</td>\n",
       "      <td>26</td>\n",
       "      <td>6</td>\n",
       "      <td>6</td>\n",
       "      <td>1</td>\n",
       "      <td>1</td>\n",
       "      <td>0</td>\n",
       "      <td>0</td>\n",
       "      <td>33</td>\n",
       "      <td>33</td>\n",
       "      <td>0</td>\n",
       "      <td>0.033968</td>\n",
       "    </tr>\n",
       "  </tbody>\n",
       "</table>\n",
       "</div>"
      ],
      "text/plain": [
       "   entry_id  version_x  version_y  mean x dist  mean y dist  num_unchanged  \\\n",
       "5         4          0          1     0.046816     0.046816             10   \n",
       "6         4          1          2     0.061029     0.039039             10   \n",
       "7         4          2          3     0.207115     0.229423              3   \n",
       "8         4          3          4     0.014479     0.028138             20   \n",
       "9         4          4          5     0.033968     0.033968             26   \n",
       "\n",
       "   num_edited_x  num_edited_y  num_deleted  num_added  num_merged  num_split  \\\n",
       "5             6             6            0          3           0          0   \n",
       "6             8             7            2          5           1          0   \n",
       "7            15            17            5          7           0          2   \n",
       "8             9            10            0          2           0          1   \n",
       "9             6             6            1          1           0          0   \n",
       "\n",
       "   num_sentences_x  num_sentences_y  num_refactors  mean_dist_overall  \n",
       "5               16               19              0           0.046816  \n",
       "6               20               22              1           0.050034  \n",
       "7               23               27              0           0.218269  \n",
       "8               29               32              1           0.021309  \n",
       "9               33               33              0           0.033968  "
      ]
     },
     "execution_count": 90,
     "metadata": {},
     "output_type": "execute_result"
    }
   ],
   "source": [
    "doc_level_stats_df.loc[doc_level_stats_df.entry_id == 4].head()\n",
    "#필터링에 의해서 앞 버전 내용이 짤린 것을 확인할 수 있음"
   ]
  },
  {
   "cell_type": "code",
   "execution_count": 149,
   "id": "d863677c",
   "metadata": {},
   "outputs": [
    {
     "data": {
      "text/html": [
       "<div>\n",
       "<style scoped>\n",
       "    .dataframe tbody tr th:only-of-type {\n",
       "        vertical-align: middle;\n",
       "    }\n",
       "\n",
       "    .dataframe tbody tr th {\n",
       "        vertical-align: top;\n",
       "    }\n",
       "\n",
       "    .dataframe thead th {\n",
       "        text-align: right;\n",
       "    }\n",
       "</style>\n",
       "<table border=\"1\" class=\"dataframe\">\n",
       "  <thead>\n",
       "    <tr style=\"text-align: right;\">\n",
       "      <th></th>\n",
       "      <th>entry_id</th>\n",
       "      <th>version_x</th>\n",
       "      <th>version_y</th>\n",
       "      <th>mean x dist</th>\n",
       "      <th>mean y dist</th>\n",
       "      <th>num_unchanged</th>\n",
       "      <th>num_edited_x</th>\n",
       "      <th>num_edited_y</th>\n",
       "      <th>num_deleted</th>\n",
       "      <th>num_added</th>\n",
       "      <th>num_merged</th>\n",
       "      <th>num_split</th>\n",
       "      <th>num_sentences_x</th>\n",
       "      <th>num_sentences_y</th>\n",
       "      <th>num_refactors</th>\n",
       "      <th>mean_dist_overall</th>\n",
       "    </tr>\n",
       "  </thead>\n",
       "  <tbody>\n",
       "    <tr>\n",
       "      <th>0</th>\n",
       "      <td>4</td>\n",
       "      <td>11</td>\n",
       "      <td>12</td>\n",
       "      <td>2.459200e-01</td>\n",
       "      <td>2.461260e-01</td>\n",
       "      <td>1</td>\n",
       "      <td>5</td>\n",
       "      <td>5</td>\n",
       "      <td>13</td>\n",
       "      <td>7</td>\n",
       "      <td>0</td>\n",
       "      <td>0</td>\n",
       "      <td>19</td>\n",
       "      <td>13</td>\n",
       "      <td>1</td>\n",
       "      <td>2.460230e-01</td>\n",
       "    </tr>\n",
       "    <tr>\n",
       "      <th>1</th>\n",
       "      <td>4</td>\n",
       "      <td>12</td>\n",
       "      <td>13</td>\n",
       "      <td>2.416777e-01</td>\n",
       "      <td>2.907917e-01</td>\n",
       "      <td>1</td>\n",
       "      <td>2</td>\n",
       "      <td>3</td>\n",
       "      <td>9</td>\n",
       "      <td>4</td>\n",
       "      <td>0</td>\n",
       "      <td>1</td>\n",
       "      <td>12</td>\n",
       "      <td>8</td>\n",
       "      <td>1</td>\n",
       "      <td>2.662347e-01</td>\n",
       "    </tr>\n",
       "    <tr>\n",
       "      <th>2</th>\n",
       "      <td>4</td>\n",
       "      <td>13</td>\n",
       "      <td>14</td>\n",
       "      <td>2.708170e-01</td>\n",
       "      <td>2.707080e-01</td>\n",
       "      <td>1</td>\n",
       "      <td>4</td>\n",
       "      <td>4</td>\n",
       "      <td>4</td>\n",
       "      <td>7</td>\n",
       "      <td>0</td>\n",
       "      <td>0</td>\n",
       "      <td>9</td>\n",
       "      <td>12</td>\n",
       "      <td>0</td>\n",
       "      <td>2.707625e-01</td>\n",
       "    </tr>\n",
       "    <tr>\n",
       "      <th>3</th>\n",
       "      <td>4</td>\n",
       "      <td>14</td>\n",
       "      <td>15</td>\n",
       "      <td>1.817005e-01</td>\n",
       "      <td>1.819137e-01</td>\n",
       "      <td>1</td>\n",
       "      <td>2</td>\n",
       "      <td>2</td>\n",
       "      <td>9</td>\n",
       "      <td>4</td>\n",
       "      <td>0</td>\n",
       "      <td>0</td>\n",
       "      <td>12</td>\n",
       "      <td>7</td>\n",
       "      <td>0</td>\n",
       "      <td>1.818071e-01</td>\n",
       "    </tr>\n",
       "    <tr>\n",
       "      <th>4</th>\n",
       "      <td>4</td>\n",
       "      <td>15</td>\n",
       "      <td>16</td>\n",
       "      <td>3.773336e-01</td>\n",
       "      <td>3.750725e-01</td>\n",
       "      <td>0</td>\n",
       "      <td>5</td>\n",
       "      <td>5</td>\n",
       "      <td>2</td>\n",
       "      <td>8</td>\n",
       "      <td>0</td>\n",
       "      <td>0</td>\n",
       "      <td>7</td>\n",
       "      <td>13</td>\n",
       "      <td>0</td>\n",
       "      <td>3.762031e-01</td>\n",
       "    </tr>\n",
       "    <tr>\n",
       "      <th>...</th>\n",
       "      <td>...</td>\n",
       "      <td>...</td>\n",
       "      <td>...</td>\n",
       "      <td>...</td>\n",
       "      <td>...</td>\n",
       "      <td>...</td>\n",
       "      <td>...</td>\n",
       "      <td>...</td>\n",
       "      <td>...</td>\n",
       "      <td>...</td>\n",
       "      <td>...</td>\n",
       "      <td>...</td>\n",
       "      <td>...</td>\n",
       "      <td>...</td>\n",
       "      <td>...</td>\n",
       "      <td>...</td>\n",
       "    </tr>\n",
       "    <tr>\n",
       "      <th>11149</th>\n",
       "      <td>23018</td>\n",
       "      <td>0</td>\n",
       "      <td>1</td>\n",
       "      <td>1.290308e-01</td>\n",
       "      <td>1.775770e-01</td>\n",
       "      <td>2</td>\n",
       "      <td>3</td>\n",
       "      <td>4</td>\n",
       "      <td>0</td>\n",
       "      <td>2</td>\n",
       "      <td>0</td>\n",
       "      <td>1</td>\n",
       "      <td>5</td>\n",
       "      <td>8</td>\n",
       "      <td>0</td>\n",
       "      <td>1.533039e-01</td>\n",
       "    </tr>\n",
       "    <tr>\n",
       "      <th>11150</th>\n",
       "      <td>23075</td>\n",
       "      <td>0</td>\n",
       "      <td>1</td>\n",
       "      <td>5.124967e-08</td>\n",
       "      <td>5.124967e-08</td>\n",
       "      <td>11</td>\n",
       "      <td>2</td>\n",
       "      <td>2</td>\n",
       "      <td>0</td>\n",
       "      <td>2</td>\n",
       "      <td>0</td>\n",
       "      <td>0</td>\n",
       "      <td>13</td>\n",
       "      <td>15</td>\n",
       "      <td>0</td>\n",
       "      <td>5.124967e-08</td>\n",
       "    </tr>\n",
       "    <tr>\n",
       "      <th>11151</th>\n",
       "      <td>23075</td>\n",
       "      <td>1</td>\n",
       "      <td>2</td>\n",
       "      <td>9.231230e-02</td>\n",
       "      <td>9.208693e-02</td>\n",
       "      <td>8</td>\n",
       "      <td>6</td>\n",
       "      <td>6</td>\n",
       "      <td>1</td>\n",
       "      <td>1</td>\n",
       "      <td>1</td>\n",
       "      <td>1</td>\n",
       "      <td>15</td>\n",
       "      <td>15</td>\n",
       "      <td>1</td>\n",
       "      <td>9.219962e-02</td>\n",
       "    </tr>\n",
       "    <tr>\n",
       "      <th>11152</th>\n",
       "      <td>23076</td>\n",
       "      <td>0</td>\n",
       "      <td>1</td>\n",
       "      <td>1.249977e-02</td>\n",
       "      <td>1.249977e-02</td>\n",
       "      <td>5</td>\n",
       "      <td>1</td>\n",
       "      <td>1</td>\n",
       "      <td>0</td>\n",
       "      <td>0</td>\n",
       "      <td>0</td>\n",
       "      <td>0</td>\n",
       "      <td>6</td>\n",
       "      <td>6</td>\n",
       "      <td>0</td>\n",
       "      <td>1.249977e-02</td>\n",
       "    </tr>\n",
       "    <tr>\n",
       "      <th>11153</th>\n",
       "      <td>23078</td>\n",
       "      <td>0</td>\n",
       "      <td>1</td>\n",
       "      <td>7.408688e-02</td>\n",
       "      <td>7.408688e-02</td>\n",
       "      <td>3</td>\n",
       "      <td>3</td>\n",
       "      <td>3</td>\n",
       "      <td>1</td>\n",
       "      <td>3</td>\n",
       "      <td>0</td>\n",
       "      <td>0</td>\n",
       "      <td>7</td>\n",
       "      <td>9</td>\n",
       "      <td>0</td>\n",
       "      <td>7.408688e-02</td>\n",
       "    </tr>\n",
       "  </tbody>\n",
       "</table>\n",
       "<p>11154 rows × 16 columns</p>\n",
       "</div>"
      ],
      "text/plain": [
       "       entry_id  version_x  version_y   mean x dist   mean y dist  \\\n",
       "0             4         11         12  2.459200e-01  2.461260e-01   \n",
       "1             4         12         13  2.416777e-01  2.907917e-01   \n",
       "2             4         13         14  2.708170e-01  2.707080e-01   \n",
       "3             4         14         15  1.817005e-01  1.819137e-01   \n",
       "4             4         15         16  3.773336e-01  3.750725e-01   \n",
       "...         ...        ...        ...           ...           ...   \n",
       "11149     23018          0          1  1.290308e-01  1.775770e-01   \n",
       "11150     23075          0          1  5.124967e-08  5.124967e-08   \n",
       "11151     23075          1          2  9.231230e-02  9.208693e-02   \n",
       "11152     23076          0          1  1.249977e-02  1.249977e-02   \n",
       "11153     23078          0          1  7.408688e-02  7.408688e-02   \n",
       "\n",
       "       num_unchanged  num_edited_x  num_edited_y  num_deleted  num_added  \\\n",
       "0                  1             5             5           13          7   \n",
       "1                  1             2             3            9          4   \n",
       "2                  1             4             4            4          7   \n",
       "3                  1             2             2            9          4   \n",
       "4                  0             5             5            2          8   \n",
       "...              ...           ...           ...          ...        ...   \n",
       "11149              2             3             4            0          2   \n",
       "11150             11             2             2            0          2   \n",
       "11151              8             6             6            1          1   \n",
       "11152              5             1             1            0          0   \n",
       "11153              3             3             3            1          3   \n",
       "\n",
       "       num_merged  num_split  num_sentences_x  num_sentences_y  num_refactors  \\\n",
       "0               0          0               19               13              1   \n",
       "1               0          1               12                8              1   \n",
       "2               0          0                9               12              0   \n",
       "3               0          0               12                7              0   \n",
       "4               0          0                7               13              0   \n",
       "...           ...        ...              ...              ...            ...   \n",
       "11149           0          1                5                8              0   \n",
       "11150           0          0               13               15              0   \n",
       "11151           1          1               15               15              1   \n",
       "11152           0          0                6                6              0   \n",
       "11153           0          0                7                9              0   \n",
       "\n",
       "       mean_dist_overall  \n",
       "0           2.460230e-01  \n",
       "1           2.662347e-01  \n",
       "2           2.707625e-01  \n",
       "3           1.818071e-01  \n",
       "4           3.762031e-01  \n",
       "...                  ...  \n",
       "11149       1.533039e-01  \n",
       "11150       5.124967e-08  \n",
       "11151       9.219962e-02  \n",
       "11152       1.249977e-02  \n",
       "11153       7.408688e-02  \n",
       "\n",
       "[11154 rows x 16 columns]"
      ]
     },
     "execution_count": 149,
     "metadata": {},
     "output_type": "execute_result"
    }
   ],
   "source": [
    "filtered_doc_stats\n",
    "    #version_x의 수가 0이 아닌 부분부터 시작한다면?...\n",
    "    #이에 관한 레이블링 정보는?"
   ]
  },
  {
   "cell_type": "code",
   "execution_count": 122,
   "id": "30d987ab",
   "metadata": {},
   "outputs": [
    {
     "data": {
      "text/html": [
       "<div>\n",
       "<style scoped>\n",
       "    .dataframe tbody tr th:only-of-type {\n",
       "        vertical-align: middle;\n",
       "    }\n",
       "\n",
       "    .dataframe tbody tr th {\n",
       "        vertical-align: top;\n",
       "    }\n",
       "\n",
       "    .dataframe thead th {\n",
       "        text-align: right;\n",
       "    }\n",
       "</style>\n",
       "<table border=\"1\" class=\"dataframe\">\n",
       "  <thead>\n",
       "    <tr style=\"text-align: right;\">\n",
       "      <th></th>\n",
       "      <th>entry_id</th>\n",
       "      <th>version_x</th>\n",
       "      <th>version_y</th>\n",
       "      <th>mean x dist</th>\n",
       "      <th>mean y dist</th>\n",
       "      <th>num_unchanged</th>\n",
       "      <th>num_edited_x</th>\n",
       "      <th>num_edited_y</th>\n",
       "      <th>num_deleted</th>\n",
       "      <th>num_added</th>\n",
       "      <th>num_merged</th>\n",
       "      <th>num_split</th>\n",
       "      <th>num_sentences_x</th>\n",
       "      <th>num_sentences_y</th>\n",
       "      <th>num_refactors</th>\n",
       "      <th>mean_dist_overall</th>\n",
       "    </tr>\n",
       "  </thead>\n",
       "  <tbody>\n",
       "    <tr>\n",
       "      <th>41</th>\n",
       "      <td>5</td>\n",
       "      <td>5</td>\n",
       "      <td>6</td>\n",
       "      <td>0.402207</td>\n",
       "      <td>0.338945</td>\n",
       "      <td>0</td>\n",
       "      <td>5</td>\n",
       "      <td>1</td>\n",
       "      <td>35</td>\n",
       "      <td>8</td>\n",
       "      <td>4</td>\n",
       "      <td>0</td>\n",
       "      <td>40</td>\n",
       "      <td>9</td>\n",
       "      <td>0</td>\n",
       "      <td>0.370576</td>\n",
       "    </tr>\n",
       "    <tr>\n",
       "      <th>42</th>\n",
       "      <td>5</td>\n",
       "      <td>6</td>\n",
       "      <td>7</td>\n",
       "      <td>0.244841</td>\n",
       "      <td>0.272071</td>\n",
       "      <td>1</td>\n",
       "      <td>4</td>\n",
       "      <td>5</td>\n",
       "      <td>4</td>\n",
       "      <td>5</td>\n",
       "      <td>0</td>\n",
       "      <td>1</td>\n",
       "      <td>9</td>\n",
       "      <td>11</td>\n",
       "      <td>1</td>\n",
       "      <td>0.258456</td>\n",
       "    </tr>\n",
       "    <tr>\n",
       "      <th>50</th>\n",
       "      <td>5</td>\n",
       "      <td>14</td>\n",
       "      <td>15</td>\n",
       "      <td>0.298008</td>\n",
       "      <td>0.359622</td>\n",
       "      <td>0</td>\n",
       "      <td>3</td>\n",
       "      <td>2</td>\n",
       "      <td>27</td>\n",
       "      <td>7</td>\n",
       "      <td>2</td>\n",
       "      <td>1</td>\n",
       "      <td>30</td>\n",
       "      <td>9</td>\n",
       "      <td>1</td>\n",
       "      <td>0.328815</td>\n",
       "    </tr>\n",
       "    <tr>\n",
       "      <th>51</th>\n",
       "      <td>5</td>\n",
       "      <td>15</td>\n",
       "      <td>16</td>\n",
       "      <td>NaN</td>\n",
       "      <td>NaN</td>\n",
       "      <td>0</td>\n",
       "      <td>0</td>\n",
       "      <td>0</td>\n",
       "      <td>7</td>\n",
       "      <td>5</td>\n",
       "      <td>0</td>\n",
       "      <td>0</td>\n",
       "      <td>7</td>\n",
       "      <td>5</td>\n",
       "      <td>0</td>\n",
       "      <td>NaN</td>\n",
       "    </tr>\n",
       "    <tr>\n",
       "      <th>52</th>\n",
       "      <td>5</td>\n",
       "      <td>16</td>\n",
       "      <td>17</td>\n",
       "      <td>0.000000</td>\n",
       "      <td>0.000000</td>\n",
       "      <td>5</td>\n",
       "      <td>0</td>\n",
       "      <td>0</td>\n",
       "      <td>0</td>\n",
       "      <td>0</td>\n",
       "      <td>0</td>\n",
       "      <td>0</td>\n",
       "      <td>5</td>\n",
       "      <td>5</td>\n",
       "      <td>0</td>\n",
       "      <td>0.000000</td>\n",
       "    </tr>\n",
       "  </tbody>\n",
       "</table>\n",
       "</div>"
      ],
      "text/plain": [
       "    entry_id  version_x  version_y  mean x dist  mean y dist  num_unchanged  \\\n",
       "41         5          5          6     0.402207     0.338945              0   \n",
       "42         5          6          7     0.244841     0.272071              1   \n",
       "50         5         14         15     0.298008     0.359622              0   \n",
       "51         5         15         16          NaN          NaN              0   \n",
       "52         5         16         17     0.000000     0.000000              5   \n",
       "\n",
       "    num_edited_x  num_edited_y  num_deleted  num_added  num_merged  num_split  \\\n",
       "41             5             1           35          8           4          0   \n",
       "42             4             5            4          5           0          1   \n",
       "50             3             2           27          7           2          1   \n",
       "51             0             0            7          5           0          0   \n",
       "52             0             0            0          0           0          0   \n",
       "\n",
       "    num_sentences_x  num_sentences_y  num_refactors  mean_dist_overall  \n",
       "41               40                9              0           0.370576  \n",
       "42                9               11              1           0.258456  \n",
       "50               30                9              1           0.328815  \n",
       "51                7                5              0                NaN  \n",
       "52                5                5              0           0.000000  "
      ]
     },
     "execution_count": 122,
     "metadata": {},
     "output_type": "execute_result"
    }
   ],
   "source": [
    "filtered_doc_stats.iloc[uniq_values[1][1]:uniq_values[1][2]]"
   ]
  },
  {
   "cell_type": "code",
   "execution_count": 150,
   "id": "a42672d8",
   "metadata": {},
   "outputs": [],
   "source": [
    "filt_entry_ids = filtered_doc_stats['entry_id'].tolist()\n",
    "\n",
    "filt_versions = filtered_doc_stats.loc[:, 'version_x':'version_y'].values.tolist()"
   ]
  },
  {
   "cell_type": "code",
   "execution_count": 151,
   "id": "4c32673c",
   "metadata": {},
   "outputs": [
    {
     "data": {
      "text/plain": [
       "3961"
      ]
     },
     "execution_count": 151,
     "metadata": {},
     "output_type": "execute_result"
    }
   ],
   "source": [
    "len([filt_entry_ids.index(x) for x in sorted(set(filt_entry_ids))])"
   ]
  },
  {
   "cell_type": "code",
   "execution_count": 152,
   "id": "167793ef",
   "metadata": {},
   "outputs": [],
   "source": [
    "import numpy as np\n",
    "\n",
    "uniq_ids, uniq_indexs = np.unique(filt_entry_ids, return_index=True)"
   ]
  },
  {
   "cell_type": "code",
   "execution_count": 137,
   "id": "afd9ac71",
   "metadata": {},
   "outputs": [
    {
     "data": {
      "text/plain": [
       "(3961,)"
      ]
     },
     "execution_count": 137,
     "metadata": {},
     "output_type": "execute_result"
    }
   ],
   "source": [
    "#유일한 entry_id의 개수\n",
    "uniq_ids.shape"
   ]
  },
  {
   "cell_type": "code",
   "execution_count": 146,
   "id": "e69855d4",
   "metadata": {},
   "outputs": [
    {
     "data": {
      "text/plain": [
       "array([23006, 23018, 23075, 23076, 23078])"
      ]
     },
     "execution_count": 146,
     "metadata": {},
     "output_type": "execute_result"
    }
   ],
   "source": [
    "uniq_ids[-5:]"
   ]
  },
  {
   "cell_type": "code",
   "execution_count": 138,
   "id": "f2d108e5",
   "metadata": {},
   "outputs": [
    {
     "data": {
      "text/plain": [
       "(3961,)"
      ]
     },
     "execution_count": 138,
     "metadata": {},
     "output_type": "execute_result"
    }
   ],
   "source": [
    "#entry_id 출현 index\n",
    "#이를 가지고 entry_id 별 간격을 설정할 수 있음\n",
    "uniq_indexs.shape"
   ]
  },
  {
   "cell_type": "code",
   "execution_count": 162,
   "id": "35e9a1ab",
   "metadata": {},
   "outputs": [],
   "source": [
    "#entry_id별 index의 집합\n",
    "test = [filt_versions[uniq_indexs[i]:uniq_indexs[i+1]] if i+1 != len(uniq_indexs) else filt_versions[uniq_indexs[i]:] for i in range(len(uniq_indexs))]"
   ]
  },
  {
   "cell_type": "code",
   "execution_count": 210,
   "id": "ce9852e0",
   "metadata": {},
   "outputs": [],
   "source": [
    "#하나의 index list로\n",
    "from itertools import chain\n",
    "\n",
    "indexes = [list(set(list(chain(*x)))) for x in test]"
   ]
  },
  {
   "cell_type": "code",
   "execution_count": 201,
   "id": "ff282b1c",
   "metadata": {},
   "outputs": [
    {
     "data": {
      "text/plain": [
       "[[11, 12, 13, 14, 15, 16, 17, 18],\n",
       " [5, 6, 7, 14, 15, 16, 17],\n",
       " [2, 3],\n",
       " [1, 2, 10, 11, 12, 13, 14, 15, 16, 17, 18, 19],\n",
       " [3, 4, 8, 9, 11, 12, 13, 14, 15, 16, 17, 18]]"
      ]
     },
     "execution_count": 201,
     "metadata": {},
     "output_type": "execute_result"
    }
   ],
   "source": [
    "indexes[:5]"
   ]
  },
  {
   "cell_type": "code",
   "execution_count": 211,
   "id": "2af106be",
   "metadata": {
    "scrolled": true
   },
   "outputs": [],
   "source": [
    "#min이 0이 아닌 경우에 바로 앞 인덱스를 추가\n",
    "\n",
    "final_indexs = [list(set(x + [min(x)-1])) if min(x) > 0 else x for x in indexes]\n",
    "    #앞 인덱스를 추가하는 이유는 그 다음 인덱스의 라벨값을 구하기 위함"
   ]
  },
  {
   "cell_type": "code",
   "execution_count": 212,
   "id": "f311fda5",
   "metadata": {},
   "outputs": [
    {
     "data": {
      "text/plain": [
       "[[10, 11, 12, 13, 14, 15, 16, 17, 18],\n",
       " [4, 5, 6, 7, 14, 15, 16, 17],\n",
       " [1, 2, 3],\n",
       " [0, 1, 2, 10, 11, 12, 13, 14, 15, 16, 17, 18, 19],\n",
       " [2, 3, 4, 8, 9, 11, 12, 13, 14, 15, 16, 17, 18]]"
      ]
     },
     "execution_count": 212,
     "metadata": {},
     "output_type": "execute_result"
    }
   ],
   "source": [
    "#key를 entry_id, value는 versions\n",
    "\n",
    "final_indexs[:5]\n",
    "    #맨 앞자리는 추적할 수 있는데 중간에 끊어진 경우는 어떻게 찾지?"
   ]
  },
  {
   "cell_type": "code",
   "execution_count": 229,
   "id": "74476ddf",
   "metadata": {},
   "outputs": [],
   "source": [
    "trial = final_indexs[3]"
   ]
  },
  {
   "cell_type": "code",
   "execution_count": 231,
   "id": "0006acfe",
   "metadata": {},
   "outputs": [],
   "source": [
    "trial_np = np.array([trial[i+1] - trial[i] for i in range(len(trial)) if not i+1 == len(trial)])"
   ]
  },
  {
   "cell_type": "code",
   "execution_count": 236,
   "id": "fed43e68",
   "metadata": {},
   "outputs": [
    {
     "data": {
      "text/plain": [
       "[3, 4]"
      ]
     },
     "execution_count": 236,
     "metadata": {},
     "output_type": "execute_result"
    }
   ],
   "source": [
    "np.where(np.array(list(range(5))) > 2)[0].tolist()"
   ]
  },
  {
   "cell_type": "code",
   "execution_count": 233,
   "id": "43df906d",
   "metadata": {},
   "outputs": [
    {
     "data": {
      "text/plain": [
       "array([2])"
      ]
     },
     "execution_count": 233,
     "metadata": {},
     "output_type": "execute_result"
    }
   ],
   "source": [
    "np.where(trial_np > 1)[0]"
   ]
  },
  {
   "cell_type": "code",
   "execution_count": 246,
   "id": "646fcdef",
   "metadata": {},
   "outputs": [],
   "source": [
    "y_label_indexs = []\n",
    "\n",
    "for values in final_indexs:\n",
    "    \n",
    "    diffs = []\n",
    "    new_vals = []\n",
    "    for i in range(len(values)):\n",
    "        \n",
    "        if not i+1 == len(values):\n",
    "            \n",
    "            diffs.append(values[i+1] - values[i])\n",
    "    \n",
    "    diff_indexs = np.where(np.array(diffs) > 1)[0].tolist()\n",
    "    \n",
    "    if len(diff_indexs) > 1:\n",
    "        \n",
    "        for index in diff_indexs:\n",
    "            new_vals.append(values[index+1] -1)\n",
    "            \n",
    "        y_label_indexs.append(list(set(values+new_vals)))\n",
    "        \n",
    "    else:\n",
    "        y_label_indexs.append(values)"
   ]
  },
  {
   "cell_type": "code",
   "execution_count": 249,
   "id": "9b9e609f",
   "metadata": {},
   "outputs": [
    {
     "data": {
      "text/plain": [
       "[[10, 11, 12, 13, 14, 15, 16, 17, 18],\n",
       " [4, 5, 6, 7, 14, 15, 16, 17],\n",
       " [1, 2, 3],\n",
       " [0, 1, 2, 9, 10, 11, 12, 13, 14, 15, 16, 17, 18, 19],\n",
       " [2, 3, 4, 8, 9, 11, 12, 13, 14, 15, 16, 17, 18]]"
      ]
     },
     "execution_count": 249,
     "metadata": {},
     "output_type": "execute_result"
    }
   ],
   "source": [
    "final_indexs[:5]"
   ]
  },
  {
   "cell_type": "code",
   "execution_count": 248,
   "id": "3be63ced",
   "metadata": {},
   "outputs": [
    {
     "data": {
      "text/plain": [
       "[[10, 11, 12, 13, 14, 15, 16, 17, 18],\n",
       " [4, 5, 6, 7, 14, 15, 16, 17],\n",
       " [1, 2, 3],\n",
       " [0, 1, 2, 9, 10, 11, 12, 13, 14, 15, 16, 17, 18, 19],\n",
       " [2, 3, 4, 7, 8, 9, 10, 11, 12, 13, 14, 15, 16, 17, 18]]"
      ]
     },
     "execution_count": 248,
     "metadata": {},
     "output_type": "execute_result"
    }
   ],
   "source": [
    "y_label_indexs[:5]"
   ]
  },
  {
   "cell_type": "code",
   "execution_count": 226,
   "id": "4764257b",
   "metadata": {},
   "outputs": [],
   "source": [
    "trial.insert(3, 9)"
   ]
  },
  {
   "cell_type": "code",
   "execution_count": 227,
   "id": "8a92da89",
   "metadata": {},
   "outputs": [
    {
     "data": {
      "text/plain": [
       "[0, 1, 2, 9, 10, 11, 12, 13, 14, 15, 16, 17, 18, 19]"
      ]
     },
     "execution_count": 227,
     "metadata": {},
     "output_type": "execute_result"
    }
   ],
   "source": [
    "trial"
   ]
  },
  {
   "cell_type": "code",
   "execution_count": null,
   "id": "b0507009",
   "metadata": {},
   "outputs": [],
   "source": [
    "final_final_indexs = [list(set(x + [min(x)-1])) if min(x) > 0 else x for x in indexes ]"
   ]
  },
  {
   "cell_type": "code",
   "execution_count": 213,
   "id": "98c04386",
   "metadata": {},
   "outputs": [
    {
     "data": {
      "text/plain": [
       "3961"
      ]
     },
     "execution_count": 213,
     "metadata": {},
     "output_type": "execute_result"
    }
   ],
   "source": [
    "len(uniq_ids)"
   ]
  },
  {
   "cell_type": "code",
   "execution_count": 214,
   "id": "51458fff",
   "metadata": {},
   "outputs": [
    {
     "data": {
      "text/plain": [
       "3961"
      ]
     },
     "execution_count": 214,
     "metadata": {},
     "output_type": "execute_result"
    }
   ],
   "source": [
    "len(final_indexs)"
   ]
  },
  {
   "cell_type": "code",
   "execution_count": 215,
   "id": "7e7cba90",
   "metadata": {},
   "outputs": [],
   "source": [
    "#default dict 생성\n",
    "#key는 entyr_id, value는 versions\n",
    "id_versions = {id_:version for id_,version in zip(uniq_ids, final_indexs)}"
   ]
  },
  {
   "cell_type": "code",
   "execution_count": 216,
   "id": "6a647dfe",
   "metadata": {
    "scrolled": true
   },
   "outputs": [
    {
     "data": {
      "text/plain": [
       "3961"
      ]
     },
     "execution_count": 216,
     "metadata": {},
     "output_type": "execute_result"
    }
   ],
   "source": [
    "len(id_versions)"
   ]
  },
  {
   "cell_type": "code",
   "execution_count": 250,
   "id": "05ec01ae",
   "metadata": {},
   "outputs": [],
   "source": [
    "y_label_id_versions = {id_:version for id_,version in zip(uniq_ids, y_label_indexs)}"
   ]
  },
  {
   "cell_type": "markdown",
   "id": "4809393b",
   "metadata": {},
   "source": [
    "## sentence 정보 가져오기"
   ]
  },
  {
   "cell_type": "code",
   "execution_count": 12,
   "id": "8f802a6b",
   "metadata": {},
   "outputs": [],
   "source": [
    "matched_sentences = pd.read_sql('select * from matched_sentences', con=conn)"
   ]
  },
  {
   "cell_type": "code",
   "execution_count": 16,
   "id": "de6e4969",
   "metadata": {},
   "outputs": [],
   "source": [
    "sentences = pd.read_sql('select * from split_sentences', con=conn)"
   ]
  },
  {
   "cell_type": "code",
   "execution_count": 17,
   "id": "2a8479d4",
   "metadata": {},
   "outputs": [
    {
     "data": {
      "text/html": [
       "<div>\n",
       "<style scoped>\n",
       "    .dataframe tbody tr th:only-of-type {\n",
       "        vertical-align: middle;\n",
       "    }\n",
       "\n",
       "    .dataframe tbody tr th {\n",
       "        vertical-align: top;\n",
       "    }\n",
       "\n",
       "    .dataframe thead th {\n",
       "        text-align: right;\n",
       "    }\n",
       "</style>\n",
       "<table border=\"1\" class=\"dataframe\">\n",
       "  <thead>\n",
       "    <tr style=\"text-align: right;\">\n",
       "      <th></th>\n",
       "      <th>entry_id</th>\n",
       "      <th>version</th>\n",
       "      <th>sent_idx</th>\n",
       "      <th>sentence</th>\n",
       "    </tr>\n",
       "  </thead>\n",
       "  <tbody>\n",
       "    <tr>\n",
       "      <th>0</th>\n",
       "      <td>17808</td>\n",
       "      <td>4.0</td>\n",
       "      <td>0</td>\n",
       "      <td>&lt;p&gt; ATLANTA (AP) -- Bobby Brown often broke in...</td>\n",
       "    </tr>\n",
       "    <tr>\n",
       "      <th>1</th>\n",
       "      <td>17808</td>\n",
       "      <td>4.0</td>\n",
       "      <td>1</td>\n",
       "      <td>&lt;/p&gt; &lt;p&gt;\"You never really get over it,\" he sai...</td>\n",
       "    </tr>\n",
       "    <tr>\n",
       "      <th>2</th>\n",
       "      <td>17808</td>\n",
       "      <td>4.0</td>\n",
       "      <td>2</td>\n",
       "      <td>She died at the age of 22 after six months in ...</td>\n",
       "    </tr>\n",
       "    <tr>\n",
       "      <th>3</th>\n",
       "      <td>17808</td>\n",
       "      <td>4.0</td>\n",
       "      <td>3</td>\n",
       "      <td>&lt;/p&gt; &lt;p&gt;Sporting a gold pendant with a picture...</td>\n",
       "    </tr>\n",
       "    <tr>\n",
       "      <th>4</th>\n",
       "      <td>17808</td>\n",
       "      <td>4.0</td>\n",
       "      <td>4</td>\n",
       "      <td>She is also the daughter of the Whitney Housto...</td>\n",
       "    </tr>\n",
       "  </tbody>\n",
       "</table>\n",
       "</div>"
      ],
      "text/plain": [
       "   entry_id  version  sent_idx  \\\n",
       "0     17808      4.0         0   \n",
       "1     17808      4.0         1   \n",
       "2     17808      4.0         2   \n",
       "3     17808      4.0         3   \n",
       "4     17808      4.0         4   \n",
       "\n",
       "                                            sentence  \n",
       "0  <p> ATLANTA (AP) -- Bobby Brown often broke in...  \n",
       "1  </p> <p>\"You never really get over it,\" he sai...  \n",
       "2  She died at the age of 22 after six months in ...  \n",
       "3  </p> <p>Sporting a gold pendant with a picture...  \n",
       "4  She is also the daughter of the Whitney Housto...  "
      ]
     },
     "execution_count": 17,
     "metadata": {},
     "output_type": "execute_result"
    }
   ],
   "source": [
    "sentences.head()"
   ]
  },
  {
   "cell_type": "code",
   "execution_count": 18,
   "id": "e83e1a57",
   "metadata": {},
   "outputs": [
    {
     "data": {
      "text/plain": [
       "(2385991, 4)"
      ]
     },
     "execution_count": 18,
     "metadata": {},
     "output_type": "execute_result"
    }
   ],
   "source": [
    "sentences.shape"
   ]
  },
  {
   "cell_type": "code",
   "execution_count": 19,
   "id": "c61c00a7",
   "metadata": {},
   "outputs": [
    {
     "data": {
      "text/plain": [
       "12239    4160\n",
       "13731    3666\n",
       "3902     3355\n",
       "2167     3351\n",
       "12267    3320\n",
       "         ... \n",
       "18675       8\n",
       "11835       8\n",
       "21809       8\n",
       "3560        7\n",
       "8707        4\n",
       "Name: entry_id, Length: 12841, dtype: int64"
      ]
     },
     "execution_count": 19,
     "metadata": {},
     "output_type": "execute_result"
    }
   ],
   "source": [
    "sentences.entry_id.value_counts()"
   ]
  },
  {
   "cell_type": "code",
   "execution_count": 20,
   "id": "11ca191c",
   "metadata": {},
   "outputs": [
    {
     "data": {
      "text/html": [
       "<div>\n",
       "<style scoped>\n",
       "    .dataframe tbody tr th:only-of-type {\n",
       "        vertical-align: middle;\n",
       "    }\n",
       "\n",
       "    .dataframe tbody tr th {\n",
       "        vertical-align: top;\n",
       "    }\n",
       "\n",
       "    .dataframe thead th {\n",
       "        text-align: right;\n",
       "    }\n",
       "</style>\n",
       "<table border=\"1\" class=\"dataframe\">\n",
       "  <thead>\n",
       "    <tr style=\"text-align: right;\">\n",
       "      <th></th>\n",
       "      <th>entry_id</th>\n",
       "      <th>version</th>\n",
       "      <th>sent_idx</th>\n",
       "      <th>sentence</th>\n",
       "    </tr>\n",
       "  </thead>\n",
       "  <tbody>\n",
       "    <tr>\n",
       "      <th>785052</th>\n",
       "      <td>1</td>\n",
       "      <td>2.0</td>\n",
       "      <td>0</td>\n",
       "      <td>&lt;p&gt;         WASHINGTON        (AP) -- Embracin...</td>\n",
       "    </tr>\n",
       "    <tr>\n",
       "      <th>785053</th>\n",
       "      <td>1</td>\n",
       "      <td>2.0</td>\n",
       "      <td>1</td>\n",
       "      <td>&lt;/p&gt; &lt;p&gt;Obama became the president to have gra...</td>\n",
       "    </tr>\n",
       "    <tr>\n",
       "      <th>785054</th>\n",
       "      <td>1</td>\n",
       "      <td>2.0</td>\n",
       "      <td>2</td>\n",
       "      <td>Manning, the transgender Army intelligence ana...</td>\n",
       "    </tr>\n",
       "    <tr>\n",
       "      <th>785055</th>\n",
       "      <td>1</td>\n",
       "      <td>2.0</td>\n",
       "      <td>3</td>\n",
       "      <td>&lt;/p&gt; &lt;p&gt;Receiving pardons from the president w...</td>\n",
       "    </tr>\n",
       "    <tr>\n",
       "      <th>785056</th>\n",
       "      <td>1</td>\n",
       "      <td>2.0</td>\n",
       "      <td>4</td>\n",
       "      <td>James Cartwright, who was charged with making ...</td>\n",
       "    </tr>\n",
       "    <tr>\n",
       "      <th>...</th>\n",
       "      <td>...</td>\n",
       "      <td>...</td>\n",
       "      <td>...</td>\n",
       "      <td>...</td>\n",
       "    </tr>\n",
       "    <tr>\n",
       "      <th>1451975</th>\n",
       "      <td>1</td>\n",
       "      <td>0.0</td>\n",
       "      <td>40</td>\n",
       "      <td>&lt;/p&gt; &lt;p&gt;White House officials said neither Ass...</td>\n",
       "    </tr>\n",
       "    <tr>\n",
       "      <th>1451976</th>\n",
       "      <td>1</td>\n",
       "      <td>0.0</td>\n",
       "      <td>41</td>\n",
       "      <td>The officials briefed reporters on condition o...</td>\n",
       "    </tr>\n",
       "    <tr>\n",
       "      <th>1451977</th>\n",
       "      <td>1</td>\n",
       "      <td>0.0</td>\n",
       "      <td>42</td>\n",
       "      <td>&lt;/p&gt; &lt;p&gt;Any action that Justice Department off...</td>\n",
       "    </tr>\n",
       "    <tr>\n",
       "      <th>1451978</th>\n",
       "      <td>1</td>\n",
       "      <td>0.0</td>\n",
       "      <td>43</td>\n",
       "      <td>&lt;/p&gt; &lt;p&gt;---&lt;/p&gt; &lt;p&gt;Associated Press writers Vi...</td>\n",
       "    </tr>\n",
       "    <tr>\n",
       "      <th>1451979</th>\n",
       "      <td>1</td>\n",
       "      <td>0.0</td>\n",
       "      <td>44</td>\n",
       "      <td>&lt;/p&gt;</td>\n",
       "    </tr>\n",
       "  </tbody>\n",
       "</table>\n",
       "<p>135 rows × 4 columns</p>\n",
       "</div>"
      ],
      "text/plain": [
       "         entry_id  version  sent_idx  \\\n",
       "785052          1      2.0         0   \n",
       "785053          1      2.0         1   \n",
       "785054          1      2.0         2   \n",
       "785055          1      2.0         3   \n",
       "785056          1      2.0         4   \n",
       "...           ...      ...       ...   \n",
       "1451975         1      0.0        40   \n",
       "1451976         1      0.0        41   \n",
       "1451977         1      0.0        42   \n",
       "1451978         1      0.0        43   \n",
       "1451979         1      0.0        44   \n",
       "\n",
       "                                                  sentence  \n",
       "785052   <p>         WASHINGTON        (AP) -- Embracin...  \n",
       "785053   </p> <p>Obama became the president to have gra...  \n",
       "785054   Manning, the transgender Army intelligence ana...  \n",
       "785055   </p> <p>Receiving pardons from the president w...  \n",
       "785056   James Cartwright, who was charged with making ...  \n",
       "...                                                    ...  \n",
       "1451975  </p> <p>White House officials said neither Ass...  \n",
       "1451976  The officials briefed reporters on condition o...  \n",
       "1451977  </p> <p>Any action that Justice Department off...  \n",
       "1451978  </p> <p>---</p> <p>Associated Press writers Vi...  \n",
       "1451979                                               </p>  \n",
       "\n",
       "[135 rows x 4 columns]"
      ]
     },
     "execution_count": 20,
     "metadata": {},
     "output_type": "execute_result"
    }
   ],
   "source": [
    "sentences.loc[sentences['entry_id'] == 1]"
   ]
  },
  {
   "cell_type": "code",
   "execution_count": 25,
   "id": "bad5a417",
   "metadata": {},
   "outputs": [],
   "source": [
    "#entry_id가 빠르고 \n",
    "sorted_sentences = sentences.sort_values(['entry_id', 'version'], \n",
    "                                        ascending = [True, True])\n",
    "sorted_sentences = sorted_sentences.reset_index(drop=True)"
   ]
  },
  {
   "cell_type": "code",
   "execution_count": 73,
   "id": "48862294",
   "metadata": {},
   "outputs": [
    {
     "data": {
      "text/html": [
       "<div>\n",
       "<style scoped>\n",
       "    .dataframe tbody tr th:only-of-type {\n",
       "        vertical-align: middle;\n",
       "    }\n",
       "\n",
       "    .dataframe tbody tr th {\n",
       "        vertical-align: top;\n",
       "    }\n",
       "\n",
       "    .dataframe thead th {\n",
       "        text-align: right;\n",
       "    }\n",
       "</style>\n",
       "<table border=\"1\" class=\"dataframe\">\n",
       "  <thead>\n",
       "    <tr style=\"text-align: right;\">\n",
       "      <th></th>\n",
       "      <th>entry_id</th>\n",
       "      <th>version</th>\n",
       "      <th>sent_idx</th>\n",
       "      <th>sentence</th>\n",
       "    </tr>\n",
       "  </thead>\n",
       "  <tbody>\n",
       "    <tr>\n",
       "      <th>130</th>\n",
       "      <td>1</td>\n",
       "      <td>2.0</td>\n",
       "      <td>38</td>\n",
       "      <td>Following Obama's announcement about Manning, ...</td>\n",
       "    </tr>\n",
       "    <tr>\n",
       "      <th>131</th>\n",
       "      <td>1</td>\n",
       "      <td>2.0</td>\n",
       "      <td>39</td>\n",
       "      <td>&lt;/p&gt; &lt;p&gt;White House officials said neither Ass...</td>\n",
       "    </tr>\n",
       "    <tr>\n",
       "      <th>132</th>\n",
       "      <td>1</td>\n",
       "      <td>2.0</td>\n",
       "      <td>40</td>\n",
       "      <td>The officials briefed reporters on condition o...</td>\n",
       "    </tr>\n",
       "    <tr>\n",
       "      <th>133</th>\n",
       "      <td>1</td>\n",
       "      <td>2.0</td>\n",
       "      <td>41</td>\n",
       "      <td>&lt;/p&gt; &lt;p&gt;---&lt;/p&gt; &lt;p&gt;Associated Press writers Vi...</td>\n",
       "    </tr>\n",
       "    <tr>\n",
       "      <th>134</th>\n",
       "      <td>1</td>\n",
       "      <td>2.0</td>\n",
       "      <td>42</td>\n",
       "      <td>&lt;/p&gt;</td>\n",
       "    </tr>\n",
       "    <tr>\n",
       "      <th>135</th>\n",
       "      <td>2</td>\n",
       "      <td>0.0</td>\n",
       "      <td>0</td>\n",
       "      <td>&lt;p&gt;         WASHINGTON        (AP) -- Traditio...</td>\n",
       "    </tr>\n",
       "  </tbody>\n",
       "</table>\n",
       "</div>"
      ],
      "text/plain": [
       "     entry_id  version  sent_idx  \\\n",
       "130         1      2.0        38   \n",
       "131         1      2.0        39   \n",
       "132         1      2.0        40   \n",
       "133         1      2.0        41   \n",
       "134         1      2.0        42   \n",
       "135         2      0.0         0   \n",
       "\n",
       "                                              sentence  \n",
       "130  Following Obama's announcement about Manning, ...  \n",
       "131  </p> <p>White House officials said neither Ass...  \n",
       "132  The officials briefed reporters on condition o...  \n",
       "133  </p> <p>---</p> <p>Associated Press writers Vi...  \n",
       "134                                               </p>  \n",
       "135  <p>         WASHINGTON        (AP) -- Traditio...  "
      ]
     },
     "execution_count": 73,
     "metadata": {},
     "output_type": "execute_result"
    }
   ],
   "source": [
    "sorted_sentences.iloc[130:136]"
   ]
  },
  {
   "cell_type": "code",
   "execution_count": null,
   "id": "29fd5fc6",
   "metadata": {},
   "outputs": [],
   "source": [
    "#id_versions를 이용하여 filtering하기\n",
    "\n",
    "sorted_sentences."
   ]
  },
  {
   "cell_type": "markdown",
   "id": "77fb6214",
   "metadata": {},
   "source": [
    "## 주어져야 하는 데이터 형식\n",
    "- split_sentences로부터 document를 생성하고\n",
    "- 해당 document마다 num_deleted, num_added, (num_merged + num_splited), num_refactors를 기록\n",
    "- label마다 multicalassification 형식으로 제공 (논문처럼 0이상 1미만은 0, 0이상 3미만은 1, 3이상은 2로 기록)\n",
    "\n",
    "### 질문\n",
    "- version 0 => version 1 형식으로 레이블링이 되어 있는데 이 부분은 어떻게 고려하여서 train, test, split을 진행하지?....\n",
    "- train은 아래 version이 많도록 sampling되고 val, test는 최신 version이 많도록 sampling을 하면 되나?\n",
    "- 그냥 수집하는 데이터 필터링만 논문에서 제시하는대로 하고 그 다음의 train, val, test split은 랜덤하게...\n",
    "\n",
    "### num_additions만 한정해서 진행해보자"
   ]
  },
  {
   "cell_type": "code",
   "execution_count": 74,
   "id": "ed0cf21d",
   "metadata": {
    "scrolled": true
   },
   "outputs": [
    {
     "data": {
      "application/vnd.jupyter.widget-view+json": {
       "model_id": "67f99fcf61204cffa51ac0da31dcb455",
       "version_major": 2,
       "version_minor": 0
      },
      "text/plain": [
       "  0%|          | 0/2385991 [00:00<?, ?it/s]"
      ]
     },
     "metadata": {},
     "output_type": "display_data"
    }
   ],
   "source": [
    "#문서 단위로 추출하기\n",
    "from tqdm.notebook import tqdm\n",
    "\n",
    "entry_ids = []\n",
    "versions = []\n",
    "documents = []\n",
    "\n",
    "temp = []\n",
    "entry_id = 1\n",
    "version = float(0)\n",
    "\n",
    "for row in tqdm(sorted_sentences.iterrows(), total = sorted_sentences.shape[0]):\n",
    "        \n",
    "    #entry_id가 달라지는 경우\n",
    "    if entry_id != row[1]['entry_id']:\n",
    "        documents.append(temp)\n",
    "        entry_ids.append(entry_id)\n",
    "        versions.append(version)\n",
    "        temp = []\n",
    "        version = row[1]['version']\n",
    "        entry_id = row[1]['entry_id']\n",
    "        temp.append(row[1]['sentence'])\n",
    "    \n",
    "    #entry_id는 같고 version만 다른 경우\n",
    "    elif row[1]['version'] != version and row[1]['entry_id'] == entry_id:\n",
    "        entry_ids.append(entry_id) #현재의 entry_id\n",
    "        versions.append(version) #현재까지 작업한 버전\n",
    "        documents.append(temp)\n",
    "        temp = []\n",
    "        temp.append(row[1]['sentence'])\n",
    "        version = row[1]['version']\n",
    "        \n",
    "    #entry_id와 version이 동일한 경우\n",
    "    else:\n",
    "        temp.append(row[1]['sentence'])"
   ]
  },
  {
   "cell_type": "code",
   "execution_count": 75,
   "id": "be14c3d5",
   "metadata": {},
   "outputs": [
    {
     "name": "stdout",
     "output_type": "stream",
     "text": [
      "74363\n",
      "74363\n",
      "74363\n"
     ]
    }
   ],
   "source": [
    "print(len(entry_ids))\n",
    "print(len(versions))\n",
    "print(len(documents))"
   ]
  },
  {
   "cell_type": "code",
   "execution_count": 76,
   "id": "395453b7",
   "metadata": {},
   "outputs": [
    {
     "data": {
      "text/plain": [
       "[1, 1, 1, 2, 2, 2, 2, 4, 4, 4]"
      ]
     },
     "execution_count": 76,
     "metadata": {},
     "output_type": "execute_result"
    }
   ],
   "source": [
    "entry_ids[:10]"
   ]
  },
  {
   "cell_type": "code",
   "execution_count": 77,
   "id": "85ae7a43",
   "metadata": {},
   "outputs": [
    {
     "data": {
      "text/plain": [
       "[0.0, 1.0, 2.0, 0.0, 1.0, 2.0, 3.0, 0.0, 1.0, 2.0]"
      ]
     },
     "execution_count": 77,
     "metadata": {},
     "output_type": "execute_result"
    }
   ],
   "source": [
    "versions[:10]"
   ]
  },
  {
   "cell_type": "markdown",
   "id": "b51d0ba4",
   "metadata": {},
   "source": [
    "### y_label_id_versions 이용하여 데이터 가져오기"
   ]
  },
  {
   "cell_type": "code",
   "execution_count": 281,
   "id": "762f49c2",
   "metadata": {},
   "outputs": [
    {
     "data": {
      "application/vnd.jupyter.widget-view+json": {
       "model_id": "a848eb54057c44d69b4511a1251b4898",
       "version_major": 2,
       "version_minor": 0
      },
      "text/plain": [
       "  0%|          | 0/3961 [00:00<?, ?it/s]"
      ]
     },
     "metadata": {},
     "output_type": "display_data"
    }
   ],
   "source": [
    "#pd concat 형식으로 데이터 붙이기?\n",
    "\n",
    "pds = []\n",
    "\n",
    "for entry_id, versions in tqdm(y_label_id_versions.items()):\n",
    "    \n",
    "    floated_versions = [float(x) for x in versions]\n",
    "    #먼저 entry_id만 추출\n",
    "    df = sorted_sentences.loc[sorted_sentences.entry_id == entry_id]\n",
    "    df_vers = df.loc[df.version.isin(floated_versions)]\n",
    "        \n",
    "    #versions마다 iter 하면서 sentence 합치기\n",
    "    uniq_vers = df_vers.version.unique().tolist()\n",
    "    \n",
    "    for ver in uniq_vers:\n",
    "        \n",
    "        uniq_ver_df = df_vers.loc[df_vers.version == ver]\n",
    "        \n",
    "        uniq_ver_sents = \"\".join(uniq_ver_df.sentence.values.tolist())\n",
    "        \n",
    "        raw_val = [[entry_id, ver, uniq_ver_sents]]\n",
    "        \n",
    "        df = pd.DataFrame(raw_val, columns = ['entity_id', 'version', 'sentence'])\n",
    "        pds.append(df)\n",
    "    "
   ]
  },
  {
   "cell_type": "code",
   "execution_count": 297,
   "id": "6b653655",
   "metadata": {},
   "outputs": [],
   "source": [
    "final_df = pd.concat(pds)"
   ]
  },
  {
   "cell_type": "code",
   "execution_count": 298,
   "id": "0effd214",
   "metadata": {},
   "outputs": [
    {
     "data": {
      "text/plain": [
       "(18603, 3)"
      ]
     },
     "execution_count": 298,
     "metadata": {},
     "output_type": "execute_result"
    }
   ],
   "source": [
    "final_df.shape"
   ]
  },
  {
   "cell_type": "code",
   "execution_count": 301,
   "id": "f5ee5b64",
   "metadata": {},
   "outputs": [
    {
     "data": {
      "text/html": [
       "<div>\n",
       "<style scoped>\n",
       "    .dataframe tbody tr th:only-of-type {\n",
       "        vertical-align: middle;\n",
       "    }\n",
       "\n",
       "    .dataframe tbody tr th {\n",
       "        vertical-align: top;\n",
       "    }\n",
       "\n",
       "    .dataframe thead th {\n",
       "        text-align: right;\n",
       "    }\n",
       "</style>\n",
       "<table border=\"1\" class=\"dataframe\">\n",
       "  <thead>\n",
       "    <tr style=\"text-align: right;\">\n",
       "      <th></th>\n",
       "      <th>entity_id</th>\n",
       "      <th>version</th>\n",
       "      <th>sentence</th>\n",
       "    </tr>\n",
       "  </thead>\n",
       "  <tbody>\n",
       "    <tr>\n",
       "      <th>0</th>\n",
       "      <td>4</td>\n",
       "      <td>10.0</td>\n",
       "      <td>&lt;p&gt; HOUSTON (AP) -- Doctors treating former Pr...</td>\n",
       "    </tr>\n",
       "    <tr>\n",
       "      <th>0</th>\n",
       "      <td>4</td>\n",
       "      <td>11.0</td>\n",
       "      <td>&lt;p&gt; HOUSTON (AP) -- Former President George H....</td>\n",
       "    </tr>\n",
       "    <tr>\n",
       "      <th>0</th>\n",
       "      <td>4</td>\n",
       "      <td>12.0</td>\n",
       "      <td>&lt;p&gt; HOUSTON (AP) -- Doctors removed former Pre...</td>\n",
       "    </tr>\n",
       "    <tr>\n",
       "      <th>0</th>\n",
       "      <td>4</td>\n",
       "      <td>13.0</td>\n",
       "      <td>&lt;p&gt; HOUSTON (AP) -- A spokesman for former Pre...</td>\n",
       "    </tr>\n",
       "    <tr>\n",
       "      <th>0</th>\n",
       "      <td>4</td>\n",
       "      <td>14.0</td>\n",
       "      <td>&lt;p&gt; HOUSTON (AP) -- Former President George H....</td>\n",
       "    </tr>\n",
       "    <tr>\n",
       "      <th>0</th>\n",
       "      <td>4</td>\n",
       "      <td>15.0</td>\n",
       "      <td>&lt;p&gt; HOUSTON (AP) -- A spokesman says former Pr...</td>\n",
       "    </tr>\n",
       "    <tr>\n",
       "      <th>0</th>\n",
       "      <td>4</td>\n",
       "      <td>16.0</td>\n",
       "      <td>&lt;p&gt; HOUSTON (AP) -- Former President George H....</td>\n",
       "    </tr>\n",
       "    <tr>\n",
       "      <th>0</th>\n",
       "      <td>4</td>\n",
       "      <td>17.0</td>\n",
       "      <td>&lt;p&gt; HOUSTON (AP) -- Doctors treating former Pr...</td>\n",
       "    </tr>\n",
       "    <tr>\n",
       "      <th>0</th>\n",
       "      <td>4</td>\n",
       "      <td>18.0</td>\n",
       "      <td>&lt;p&gt; HOUSTON (AP) -- Former first lady Barbara ...</td>\n",
       "    </tr>\n",
       "    <tr>\n",
       "      <th>0</th>\n",
       "      <td>5</td>\n",
       "      <td>4.0</td>\n",
       "      <td>&lt;p&gt;         WASHINGTON        (AP) -- Offering...</td>\n",
       "    </tr>\n",
       "  </tbody>\n",
       "</table>\n",
       "</div>"
      ],
      "text/plain": [
       "   entity_id  version                                           sentence\n",
       "0          4     10.0  <p> HOUSTON (AP) -- Doctors treating former Pr...\n",
       "0          4     11.0  <p> HOUSTON (AP) -- Former President George H....\n",
       "0          4     12.0  <p> HOUSTON (AP) -- Doctors removed former Pre...\n",
       "0          4     13.0  <p> HOUSTON (AP) -- A spokesman for former Pre...\n",
       "0          4     14.0  <p> HOUSTON (AP) -- Former President George H....\n",
       "0          4     15.0  <p> HOUSTON (AP) -- A spokesman says former Pr...\n",
       "0          4     16.0  <p> HOUSTON (AP) -- Former President George H....\n",
       "0          4     17.0  <p> HOUSTON (AP) -- Doctors treating former Pr...\n",
       "0          4     18.0  <p> HOUSTON (AP) -- Former first lady Barbara ...\n",
       "0          5      4.0  <p>         WASHINGTON        (AP) -- Offering..."
      ]
     },
     "execution_count": 301,
     "metadata": {},
     "output_type": "execute_result"
    }
   ],
   "source": [
    "final_df.head(10)"
   ]
  },
  {
   "cell_type": "code",
   "execution_count": 305,
   "id": "0ff09ad5",
   "metadata": {},
   "outputs": [],
   "source": [
    "#labeling 하기\n",
    "\n",
    "id_queries = final_df.entity_id.values.tolist()\n",
    "\n",
    "ver_queries = final_df.version.values.tolist()"
   ]
  },
  {
   "cell_type": "code",
   "execution_count": 321,
   "id": "e1b8bbba",
   "metadata": {},
   "outputs": [
    {
     "data": {
      "text/plain": [
       "4"
      ]
     },
     "execution_count": 321,
     "metadata": {},
     "output_type": "execute_result"
    }
   ],
   "source": [
    "#1 이하이면 0, 1이상 3이하이면 2, 3초과면 3\n",
    "\n",
    "id_mask = (doc_level_stats_df.entry_id == id_queries[0])\n",
    "\n",
    "ver_mask = (doc_level_stats_df.version_y == int(ver_queries[0]))\n",
    "\n",
    "doc_level_stats_df.loc[id_mask & ver_mask]['num_added'].values.item()"
   ]
  },
  {
   "cell_type": "code",
   "execution_count": 311,
   "id": "bc955bfa",
   "metadata": {},
   "outputs": [
    {
     "data": {
      "text/html": [
       "<div>\n",
       "<style scoped>\n",
       "    .dataframe tbody tr th:only-of-type {\n",
       "        vertical-align: middle;\n",
       "    }\n",
       "\n",
       "    .dataframe tbody tr th {\n",
       "        vertical-align: top;\n",
       "    }\n",
       "\n",
       "    .dataframe thead th {\n",
       "        text-align: right;\n",
       "    }\n",
       "</style>\n",
       "<table border=\"1\" class=\"dataframe\">\n",
       "  <thead>\n",
       "    <tr style=\"text-align: right;\">\n",
       "      <th></th>\n",
       "      <th>entry_id</th>\n",
       "      <th>version_x</th>\n",
       "      <th>version_y</th>\n",
       "      <th>mean x dist</th>\n",
       "      <th>mean y dist</th>\n",
       "      <th>num_unchanged</th>\n",
       "      <th>num_edited_x</th>\n",
       "      <th>num_edited_y</th>\n",
       "      <th>num_deleted</th>\n",
       "      <th>num_added</th>\n",
       "      <th>num_merged</th>\n",
       "      <th>num_split</th>\n",
       "      <th>num_sentences_x</th>\n",
       "      <th>num_sentences_y</th>\n",
       "      <th>num_refactors</th>\n",
       "      <th>mean_dist_overall</th>\n",
       "    </tr>\n",
       "  </thead>\n",
       "  <tbody>\n",
       "    <tr>\n",
       "      <th>0</th>\n",
       "      <td>4</td>\n",
       "      <td>11</td>\n",
       "      <td>12</td>\n",
       "      <td>0.245920</td>\n",
       "      <td>0.246126</td>\n",
       "      <td>1</td>\n",
       "      <td>5</td>\n",
       "      <td>5</td>\n",
       "      <td>13</td>\n",
       "      <td>7</td>\n",
       "      <td>0</td>\n",
       "      <td>0</td>\n",
       "      <td>19</td>\n",
       "      <td>13</td>\n",
       "      <td>1</td>\n",
       "      <td>0.246023</td>\n",
       "    </tr>\n",
       "    <tr>\n",
       "      <th>1</th>\n",
       "      <td>4</td>\n",
       "      <td>12</td>\n",
       "      <td>13</td>\n",
       "      <td>0.241678</td>\n",
       "      <td>0.290792</td>\n",
       "      <td>1</td>\n",
       "      <td>2</td>\n",
       "      <td>3</td>\n",
       "      <td>9</td>\n",
       "      <td>4</td>\n",
       "      <td>0</td>\n",
       "      <td>1</td>\n",
       "      <td>12</td>\n",
       "      <td>8</td>\n",
       "      <td>1</td>\n",
       "      <td>0.266235</td>\n",
       "    </tr>\n",
       "    <tr>\n",
       "      <th>2</th>\n",
       "      <td>4</td>\n",
       "      <td>13</td>\n",
       "      <td>14</td>\n",
       "      <td>0.270817</td>\n",
       "      <td>0.270708</td>\n",
       "      <td>1</td>\n",
       "      <td>4</td>\n",
       "      <td>4</td>\n",
       "      <td>4</td>\n",
       "      <td>7</td>\n",
       "      <td>0</td>\n",
       "      <td>0</td>\n",
       "      <td>9</td>\n",
       "      <td>12</td>\n",
       "      <td>0</td>\n",
       "      <td>0.270762</td>\n",
       "    </tr>\n",
       "    <tr>\n",
       "      <th>3</th>\n",
       "      <td>4</td>\n",
       "      <td>14</td>\n",
       "      <td>15</td>\n",
       "      <td>0.181701</td>\n",
       "      <td>0.181914</td>\n",
       "      <td>1</td>\n",
       "      <td>2</td>\n",
       "      <td>2</td>\n",
       "      <td>9</td>\n",
       "      <td>4</td>\n",
       "      <td>0</td>\n",
       "      <td>0</td>\n",
       "      <td>12</td>\n",
       "      <td>7</td>\n",
       "      <td>0</td>\n",
       "      <td>0.181807</td>\n",
       "    </tr>\n",
       "    <tr>\n",
       "      <th>4</th>\n",
       "      <td>4</td>\n",
       "      <td>15</td>\n",
       "      <td>16</td>\n",
       "      <td>0.377334</td>\n",
       "      <td>0.375073</td>\n",
       "      <td>0</td>\n",
       "      <td>5</td>\n",
       "      <td>5</td>\n",
       "      <td>2</td>\n",
       "      <td>8</td>\n",
       "      <td>0</td>\n",
       "      <td>0</td>\n",
       "      <td>7</td>\n",
       "      <td>13</td>\n",
       "      <td>0</td>\n",
       "      <td>0.376203</td>\n",
       "    </tr>\n",
       "    <tr>\n",
       "      <th>5</th>\n",
       "      <td>4</td>\n",
       "      <td>16</td>\n",
       "      <td>17</td>\n",
       "      <td>0.294028</td>\n",
       "      <td>0.293900</td>\n",
       "      <td>1</td>\n",
       "      <td>4</td>\n",
       "      <td>4</td>\n",
       "      <td>10</td>\n",
       "      <td>9</td>\n",
       "      <td>0</td>\n",
       "      <td>0</td>\n",
       "      <td>15</td>\n",
       "      <td>14</td>\n",
       "      <td>0</td>\n",
       "      <td>0.293964</td>\n",
       "    </tr>\n",
       "    <tr>\n",
       "      <th>6</th>\n",
       "      <td>4</td>\n",
       "      <td>17</td>\n",
       "      <td>18</td>\n",
       "      <td>0.092071</td>\n",
       "      <td>0.101591</td>\n",
       "      <td>5</td>\n",
       "      <td>6</td>\n",
       "      <td>7</td>\n",
       "      <td>3</td>\n",
       "      <td>3</td>\n",
       "      <td>0</td>\n",
       "      <td>1</td>\n",
       "      <td>14</td>\n",
       "      <td>15</td>\n",
       "      <td>1</td>\n",
       "      <td>0.096831</td>\n",
       "    </tr>\n",
       "  </tbody>\n",
       "</table>\n",
       "</div>"
      ],
      "text/plain": [
       "   entry_id  version_x  version_y  mean x dist  mean y dist  num_unchanged  \\\n",
       "0         4         11         12     0.245920     0.246126              1   \n",
       "1         4         12         13     0.241678     0.290792              1   \n",
       "2         4         13         14     0.270817     0.270708              1   \n",
       "3         4         14         15     0.181701     0.181914              1   \n",
       "4         4         15         16     0.377334     0.375073              0   \n",
       "5         4         16         17     0.294028     0.293900              1   \n",
       "6         4         17         18     0.092071     0.101591              5   \n",
       "\n",
       "   num_edited_x  num_edited_y  num_deleted  num_added  num_merged  num_split  \\\n",
       "0             5             5           13          7           0          0   \n",
       "1             2             3            9          4           0          1   \n",
       "2             4             4            4          7           0          0   \n",
       "3             2             2            9          4           0          0   \n",
       "4             5             5            2          8           0          0   \n",
       "5             4             4           10          9           0          0   \n",
       "6             6             7            3          3           0          1   \n",
       "\n",
       "   num_sentences_x  num_sentences_y  num_refactors  mean_dist_overall  \n",
       "0               19               13              1           0.246023  \n",
       "1               12                8              1           0.266235  \n",
       "2                9               12              0           0.270762  \n",
       "3               12                7              0           0.181807  \n",
       "4                7               13              0           0.376203  \n",
       "5               15               14              0           0.293964  \n",
       "6               14               15              1           0.096831  "
      ]
     },
     "execution_count": 311,
     "metadata": {},
     "output_type": "execute_result"
    }
   ],
   "source": [
    "filtered_doc_stats.loc[id_mask]"
   ]
  },
  {
   "cell_type": "code",
   "execution_count": 326,
   "id": "eb0e3be6",
   "metadata": {},
   "outputs": [
    {
     "data": {
      "application/vnd.jupyter.widget-view+json": {
       "model_id": "04174e81c15c4cfe851c866fec4e3e37",
       "version_major": 2,
       "version_minor": 0
      },
      "text/plain": [
       "0it [00:00, ?it/s]"
      ]
     },
     "metadata": {},
     "output_type": "display_data"
    }
   ],
   "source": [
    "labels = []\n",
    "\n",
    "for id_query, ver_query in tqdm(zip(id_queries, ver_queries), total = len(id_queries)):\n",
    "    \n",
    "    if ver_query == 0:\n",
    "        labels.append(0)\n",
    "        continue\n",
    "    \n",
    "    id_mask = (doc_level_stats_df.entry_id == id_query)\n",
    "\n",
    "    ver_mask = (doc_level_stats_df.version_y == int(ver_query))\n",
    "    \n",
    "    num_additions = doc_level_stats_df.loc[id_mask & ver_mask]['num_added'].values.item()\n",
    "    \n",
    "    if num_additions >= 0 and num_additions < 1:\n",
    "        label = 0\n",
    "        \n",
    "    elif num_additions >= 1 and num_additions < 3:\n",
    "        label = 1\n",
    "        \n",
    "    else:\n",
    "        label = 2\n",
    "        \n",
    "    labels.append(label)"
   ]
  },
  {
   "cell_type": "code",
   "execution_count": 329,
   "id": "5a51963c",
   "metadata": {},
   "outputs": [
    {
     "data": {
      "text/plain": [
       "[2, 2, 2, 2, 2, 2, 2, 2, 2, 2, 0, 2, 2, 0, 2, 2, 0, 2, 2, 2]"
      ]
     },
     "execution_count": 329,
     "metadata": {},
     "output_type": "execute_result"
    }
   ],
   "source": [
    "labels[:20]"
   ]
  },
  {
   "cell_type": "code",
   "execution_count": 330,
   "id": "0bf468ca",
   "metadata": {},
   "outputs": [],
   "source": [
    "final_df['label'] = labels"
   ]
  },
  {
   "cell_type": "code",
   "execution_count": 331,
   "id": "4a64f458",
   "metadata": {},
   "outputs": [
    {
     "data": {
      "text/html": [
       "<div>\n",
       "<style scoped>\n",
       "    .dataframe tbody tr th:only-of-type {\n",
       "        vertical-align: middle;\n",
       "    }\n",
       "\n",
       "    .dataframe tbody tr th {\n",
       "        vertical-align: top;\n",
       "    }\n",
       "\n",
       "    .dataframe thead th {\n",
       "        text-align: right;\n",
       "    }\n",
       "</style>\n",
       "<table border=\"1\" class=\"dataframe\">\n",
       "  <thead>\n",
       "    <tr style=\"text-align: right;\">\n",
       "      <th></th>\n",
       "      <th>entity_id</th>\n",
       "      <th>version</th>\n",
       "      <th>sentence</th>\n",
       "      <th>label</th>\n",
       "    </tr>\n",
       "  </thead>\n",
       "  <tbody>\n",
       "    <tr>\n",
       "      <th>0</th>\n",
       "      <td>4</td>\n",
       "      <td>10.0</td>\n",
       "      <td>&lt;p&gt; HOUSTON (AP) -- Doctors treating former Pr...</td>\n",
       "      <td>2</td>\n",
       "    </tr>\n",
       "    <tr>\n",
       "      <th>0</th>\n",
       "      <td>4</td>\n",
       "      <td>11.0</td>\n",
       "      <td>&lt;p&gt; HOUSTON (AP) -- Former President George H....</td>\n",
       "      <td>2</td>\n",
       "    </tr>\n",
       "    <tr>\n",
       "      <th>0</th>\n",
       "      <td>4</td>\n",
       "      <td>12.0</td>\n",
       "      <td>&lt;p&gt; HOUSTON (AP) -- Doctors removed former Pre...</td>\n",
       "      <td>2</td>\n",
       "    </tr>\n",
       "    <tr>\n",
       "      <th>0</th>\n",
       "      <td>4</td>\n",
       "      <td>13.0</td>\n",
       "      <td>&lt;p&gt; HOUSTON (AP) -- A spokesman for former Pre...</td>\n",
       "      <td>2</td>\n",
       "    </tr>\n",
       "    <tr>\n",
       "      <th>0</th>\n",
       "      <td>4</td>\n",
       "      <td>14.0</td>\n",
       "      <td>&lt;p&gt; HOUSTON (AP) -- Former President George H....</td>\n",
       "      <td>2</td>\n",
       "    </tr>\n",
       "  </tbody>\n",
       "</table>\n",
       "</div>"
      ],
      "text/plain": [
       "   entity_id  version                                           sentence  \\\n",
       "0          4     10.0  <p> HOUSTON (AP) -- Doctors treating former Pr...   \n",
       "0          4     11.0  <p> HOUSTON (AP) -- Former President George H....   \n",
       "0          4     12.0  <p> HOUSTON (AP) -- Doctors removed former Pre...   \n",
       "0          4     13.0  <p> HOUSTON (AP) -- A spokesman for former Pre...   \n",
       "0          4     14.0  <p> HOUSTON (AP) -- Former President George H....   \n",
       "\n",
       "   label  \n",
       "0      2  \n",
       "0      2  \n",
       "0      2  \n",
       "0      2  \n",
       "0      2  "
      ]
     },
     "execution_count": 331,
     "metadata": {},
     "output_type": "execute_result"
    }
   ],
   "source": [
    "final_df.head()"
   ]
  },
  {
   "cell_type": "code",
   "execution_count": 336,
   "id": "010d5030",
   "metadata": {},
   "outputs": [
    {
     "data": {
      "text/plain": [
       "nan"
      ]
     },
     "execution_count": 336,
     "metadata": {},
     "output_type": "execute_result"
    }
   ],
   "source": [
    "np.nan"
   ]
  },
  {
   "cell_type": "code",
   "execution_count": null,
   "id": "f1cb9a16",
   "metadata": {},
   "outputs": [],
   "source": []
  }
 ],
 "metadata": {
  "kernelspec": {
   "display_name": "data_aug",
   "language": "python",
   "name": "data_aug"
  },
  "language_info": {
   "codemirror_mode": {
    "name": "ipython",
    "version": 3
   },
   "file_extension": ".py",
   "mimetype": "text/x-python",
   "name": "python",
   "nbconvert_exporter": "python",
   "pygments_lexer": "ipython3",
   "version": "3.8.13"
  }
 },
 "nbformat": 4,
 "nbformat_minor": 5
}
